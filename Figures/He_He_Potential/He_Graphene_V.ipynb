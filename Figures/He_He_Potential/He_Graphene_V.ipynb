{
 "cells": [
  {
   "cell_type": "code",
   "execution_count": 1,
   "metadata": {},
   "outputs": [],
   "source": [
    "import potential\n",
    "from potential import Aziz_params\n",
    "from graphenetools import GrapheneTools as gt\n",
    "import sys,os"
   ]
  },
  {
   "cell_type": "code",
   "execution_count": 2,
   "metadata": {},
   "outputs": [],
   "source": [
    "import numpy as np\n",
    "import matplotlib.pyplot as plt\n",
    "from matplotlib import cm\n",
    "import matplotlib.gridspec as gridspec\n",
    "from matplotlib.ticker import (MultipleLocator, FormatStrFormatter,\n",
    "                               AutoMinorLocator)\n",
    "%matplotlib inline"
   ]
  },
  {
   "cell_type": "code",
   "execution_count": 3,
   "metadata": {},
   "outputs": [],
   "source": [
    "He_He_V_MP2 = np.loadtxt('He_He_MP2.csv', delimiter = ',', skiprows = 1)\n",
    "He_Graphene_V_MP2 = np.loadtxt('He_Graphene_MP2.csv', delimiter = ',', skiprows = 1)"
   ]
  },
  {
   "cell_type": "code",
   "execution_count": 4,
   "metadata": {},
   "outputs": [],
   "source": [
    "He_He_V_dat = np.loadtxt('He_He_V.csv', delimiter = ',', skiprows = 1)\n",
    "He_Graphene_1_dat = np.loadtxt('Single_He_Graphene_V.csv', delimiter = ',', skiprows = 1)\n",
    "He_barrier_dat = np.loadtxt('Single_He_opt_V_moving_over_barrier.csv', delimiter = ',', skiprows = 1)\n",
    "He_Graphite_dat = np.loadtxt('He_Graphite_3.txt', skiprows = 1)"
   ]
  },
  {
   "cell_type": "code",
   "execution_count": 58,
   "metadata": {},
   "outputs": [],
   "source": [
    "sigmaHapp = 2.643\n",
    "epsilonHapp = 16.961\n",
    "\n",
    "sigma1 = 2.74\n",
    "epsilon1 = 16.2463\n",
    "\n",
    "a = gt(notebook=True, strain=0.0)\n",
    "\n",
    "zz = He_Graphene_1_dat[:,0]\n",
    "V = a.V_0(zz, a.lattice.A, epsilonHapp, sigmaHapp)\n",
    "\n",
    "zz = He_Graphene_1_dat[:,0]\n",
    "V_Graphite_1 = a.V_0(zz, a.lattice.A, epsilon1, sigma1)\n",
    "\n",
    "z_Graphite_Composite = He_Graphite_dat[:, 0]\n",
    "V_Graphite_Composite = He_Graphite_dat[:, 1]\n",
    "\n",
    "z_MP2 = He_He_V_MP2[:, 0]\n",
    "V_MP2 = He_He_V_MP2[:, 1]\n",
    "\n",
    "z_G_MP2 = He_Graphene_V_MP2[:, 0]\n",
    "V_G_MP2 = He_Graphene_V_MP2[:, 1]\n",
    "\n",
    "szalewicz_V = potential.szalewicz_2012(He_Graphene_1_dat[:,0])\n",
    "aziz_95_V = potential.aziz(He_He_V_dat[:,0], Aziz_params['1995'])"
   ]
  },
  {
   "cell_type": "code",
   "execution_count": 59,
   "metadata": {},
   "outputs": [
    {
     "data": {
      "text/plain": [
       "{'ε': 10.956,\n",
       " 'rₘ': 2.9683,\n",
       " 'D': 1.438,\n",
       " 'α': 10.5717543,\n",
       " 'β': -2.07758779,\n",
       " 'C': array([0.        , 0.        , 0.        , 0.        , 0.        ,\n",
       "        0.        , 1.35186623, 0.        , 0.4149514 , 0.        ,\n",
       "        0.17151143]),\n",
       " 'A': 186924.404}"
      ]
     },
     "execution_count": 59,
     "metadata": {},
     "output_type": "execute_result"
    }
   ],
   "source": [
    "Aziz_params['1995']"
   ]
  },
  {
   "cell_type": "code",
   "execution_count": 60,
   "metadata": {},
   "outputs": [],
   "source": [
    "plt.style.use('../aps.mplstyle')"
   ]
  },
  {
   "cell_type": "raw",
   "metadata": {},
   "source": [
    "plot_style = {'notebook':'../notebook.mplstyle','aps':'../aps.mplstyle'}\n",
    "plt.style.reload_library()\n",
    "plt.style.use(plot_style['aps'])\n",
    "figsize = plt.rcParams['figure.figsize']\n",
    "plt.rcParams['text.latex.preamble'] = f'\\input{{{os.getcwd()}{os.path.sep}..{os.path.sep}texheader}}'"
   ]
  },
  {
   "cell_type": "code",
   "execution_count": 97,
   "metadata": {
    "scrolled": true
   },
   "outputs": [
    {
     "data": {
      "text/plain": [
       "<matplotlib.legend.Legend at 0x178ff851198>"
      ]
     },
     "execution_count": 97,
     "metadata": {},
     "output_type": "execute_result"
    },
    {
     "data": {
      "image/png": "[encoded data removed]",
      "text/plain": [
       "<Figure size 245.081x151.469 with 2 Axes>"
      ]
     },
     "metadata": {
      "needs_background": "light"
     },
     "output_type": "display_data"
    }
   ],
   "source": [
    "cmap = plt.cm.get_cmap('viridis')\n",
    "\n",
    "colors = [cmap(i*0.3) for i in range(4)]\n",
    "\n",
    "fig, ax = plt.subplots(1, 2) \n",
    "ax[0].plot(He_He_V_r, szalewicz_V, color = colors[0])\n",
    "ax[0].plot(He_He_V_r, He_He_V_DFT, color = colors[1])\n",
    "ax[0].plot(z_MP2, V_MP2, label = 'MP2', color = colors[3], linewidth=1)\n",
    "ax[0].set_xlim(2.2, 5.5)\n",
    "ax[0].set_ylim(-50,100)\n",
    "ax[0].set_title(\"He-He\")\n",
    "ax[0].set_xlabel(r'$r$(\\AA)')\n",
    "ax[0].set_ylabel(r'V(K)')\n",
    "ax[0].xaxis.set_minor_locator(MultipleLocator(0.5))\n",
    "ax[0].tick_params(which='minor', direction=\"out\", top = False, bottom=True, left=False, right=True, labelleft = False,\n",
    "                                   labelright = True, length=2.5)\n",
    "ax[0].tick_params(which='major', direction=\"out\", top = False, bottom=True, left=True, right=False, length=4)\n",
    "\n",
    "\n",
    "ax[1].plot(zz,V, label = 'QMC', color = colors[0])\n",
    "ax[1].plot(He_Graphene_1_dat[:,0], He_Graphene_1_dat[:,2], label = 'DFT', color = colors[1])\n",
    "#ax[1].plot(zz,V1, label = 'Graphite')\n",
    "ax[1].plot(z_G_MP2, V_G_MP2, color = colors[3], linewidth=1)\n",
    "#ax[1].plot(z_Graphite_Composite,V_Graphite_Composite, label = 'Graphite?', color = colors[2], linewidth=1)\n",
    "ax[1].set_xlim(2.01, 5.5)\n",
    "ax[1].set_ylim(-400,400)\n",
    "ax[1].yaxis.set_label_position(\"right\")\n",
    "ax[1].set_title(\"He-Graphene\")\n",
    "ax[1].set_xlabel(r'$z$(\\AA)')\n",
    "ax[1].xaxis.set_minor_locator(MultipleLocator(0.5))\n",
    "ax[1].tick_params(which='minor', direction=\"out\", top = False, bottom=True, left=False, right=True, labelleft = False,\n",
    "                                   labelright = True, length=2.5)\n",
    "ax[1].tick_params(which='major', direction=\"out\", top = False, bottom=True, left=False, right=True, labelleft = False,\n",
    "                                   labelright = True, length=4)\n",
    "\n",
    "fig.subplots_adjust(wspace=0.03, top=0.6)\n",
    "\n",
    "handles, labels = ax[0].get_legend_handles_labels()\n",
    "handles2, labels2 = ax[1].get_legend_handles_labels()\n",
    "handles.extend(handles2)\n",
    "labels.extend(labels2)\n",
    "fig.legend(handles, labels, loc='upper center', frameon = True, ncol=3)\n",
    "\n",
    "\n",
    "#plt.legend()\n",
    "#plt.show()\n",
    "\n",
    "#plt.savefig('He_Graphene_Potential.pdf', transparent=False) \n",
    "#plt.savefig('He_Graphene_Potential.svg', transparent=False) "
   ]
  },
  {
   "cell_type": "code",
   "execution_count": 99,
   "metadata": {},
   "outputs": [],
   "source": [
    "He_He_V_DFT = np.concatenate((He_He_V_dat[:61,2], He_He_V_dat[70:71,2], He_He_V_dat[80:,2]))"
   ]
  },
  {
   "cell_type": "code",
   "execution_count": 100,
   "metadata": {},
   "outputs": [],
   "source": [
    "He_He_V_r = np.concatenate((He_He_V_dat[:61,0], He_He_V_dat[70:71,0], He_He_V_dat[80:,0]))"
   ]
  },
  {
   "cell_type": "code",
   "execution_count": 101,
   "metadata": {},
   "outputs": [],
   "source": [
    "he_out = np.zeros((len(He_He_V_r), 5))\n",
    "he_out[:,0] = He_Graphene_1_dat[:,0]\n",
    "he_out[:,1] = szalewicz_V\n",
    "he_out[:,2] = He_He_V_DFT\n",
    "he_out[:,3] = V\n",
    "he_out[:,4] = He_Graphene_1_dat[:,2]"
   ]
  },
  {
   "cell_type": "code",
   "execution_count": 105,
   "metadata": {},
   "outputs": [],
   "source": [
    "np.savetxt(\"He_potential.txt\",he_out)"
   ]
  },
  {
   "cell_type": "code",
   "execution_count": 9,
   "metadata": {},
   "outputs": [
    {
     "data": {
      "text/plain": [
       "(99, 3)"
      ]
     },
     "execution_count": 9,
     "metadata": {},
     "output_type": "execute_result"
    }
   ],
   "source": [
    "np.shape(He_He_V_dat)"
   ]
  },
  {
   "cell_type": "code",
   "execution_count": 10,
   "metadata": {},
   "outputs": [
    {
     "data": {
      "text/plain": [
       "(81, 3)"
      ]
     },
     "execution_count": 10,
     "metadata": {},
     "output_type": "execute_result"
    }
   ],
   "source": [
    "np.shape(He_Graphene_1_dat)"
   ]
  },
  {
   "cell_type": "code",
   "execution_count": 11,
   "metadata": {},
   "outputs": [
    {
     "data": {
      "text/plain": [
       "-203.25454605166576"
      ]
     },
     "execution_count": 11,
     "metadata": {},
     "output_type": "execute_result"
    }
   ],
   "source": [
    "np.min(V_Graphite_Composite)"
   ]
  },
  {
   "cell_type": "code",
   "execution_count": 12,
   "metadata": {},
   "outputs": [
    {
     "data": {
      "text/plain": [
       "[<matplotlib.lines.Line2D at 0x178ff6517b8>]"
      ]
     },
     "execution_count": 12,
     "metadata": {},
     "output_type": "execute_result"
    },
    {
     "data": {
      "image/png": "[encoded data removed]",
      "text/plain": [
       "<Figure size 245.081x151.469 with 1 Axes>"
      ]
     },
     "metadata": {
      "needs_background": "light"
     },
     "output_type": "display_data"
    }
   ],
   "source": [
    "plt.plot(He_He_V_dat[:,0], szalewicz_V)"
   ]
  },
  {
   "cell_type": "code",
   "execution_count": 13,
   "metadata": {},
   "outputs": [
    {
     "data": {
      "text/plain": [
       "(array([13, 14, 15, 16, 17, 18, 19, 20, 21, 22, 23, 24, 25, 26, 27, 28, 29,\n",
       "        30, 31, 32, 33, 34, 35, 36, 37, 38, 39, 40, 41, 42, 43, 44, 45, 46,\n",
       "        47, 48, 49, 50, 51, 52, 53, 54, 55, 56, 57, 58, 59, 60, 61, 62, 63,\n",
       "        64, 65, 66, 67, 68, 69, 70, 71, 72, 73, 74, 75, 76, 77, 78, 79, 80,\n",
       "        81, 82, 83, 84, 85, 86, 87, 88, 89, 90, 91, 92, 93, 94, 95, 96, 97,\n",
       "        98], dtype=int64),)"
      ]
     },
     "execution_count": 13,
     "metadata": {},
     "output_type": "execute_result"
    }
   ],
   "source": [
    "np.where(szalewicz_V<0)"
   ]
  },
  {
   "cell_type": "code",
   "execution_count": 14,
   "metadata": {},
   "outputs": [
    {
     "data": {
      "text/plain": [
       "(array([641, 642, 643, 644, 645, 646, 647, 648, 649, 650, 651, 652, 653,\n",
       "        654, 655, 656, 657, 658, 659, 660, 661, 662, 663, 664, 665, 666,\n",
       "        667, 668, 669, 670, 671, 672, 673, 674, 675, 676, 677, 678, 679,\n",
       "        680, 681, 682, 683, 684, 685, 686, 687, 688, 689, 690, 691, 692,\n",
       "        693, 694, 695, 696, 697, 698, 699, 700, 701, 702, 703, 704, 705,\n",
       "        706, 707, 708, 709, 710, 711, 712, 713, 714, 715, 716, 717, 718,\n",
       "        719, 720, 721, 722, 723, 724, 725, 726, 727, 728, 729, 730, 731,\n",
       "        732, 733, 734, 735, 736, 737, 738, 739, 740, 741, 742, 743, 744,\n",
       "        745, 746, 747, 748, 749, 750, 751, 752, 753, 754, 755, 756, 757,\n",
       "        758, 759, 760, 761, 762, 763, 764, 765, 766, 767, 768, 769, 770,\n",
       "        771, 772, 773, 774, 775, 776, 777, 778, 779, 780, 781, 782, 783,\n",
       "        784, 785, 786, 787, 788, 789, 790, 791, 792, 793, 794, 795, 796,\n",
       "        797, 798, 799, 800, 801, 802, 803, 804, 805, 806, 807, 808, 809,\n",
       "        810, 811, 812, 813, 814, 815, 816, 817, 818, 819, 820, 821, 822,\n",
       "        823, 824, 825, 826, 827, 828, 829, 830, 831, 832, 833, 834, 835,\n",
       "        836, 837, 838, 839, 840, 841, 842, 843, 844, 845, 846, 847, 848,\n",
       "        849, 850, 851, 852, 853, 854, 855, 856, 857, 858, 859, 860, 861,\n",
       "        862, 863, 864, 865, 866, 867, 868, 869, 870, 871, 872, 873, 874,\n",
       "        875, 876, 877, 878, 879, 880, 881, 882, 883, 884, 885, 886, 887,\n",
       "        888, 889, 890, 891, 892, 893, 894, 895, 896, 897, 898, 899, 900,\n",
       "        901, 902, 903, 904, 905, 906, 907, 908, 909, 910, 911, 912, 913,\n",
       "        914, 915, 916, 917, 918, 919, 920, 921, 922, 923, 924, 925, 926,\n",
       "        927, 928, 929, 930, 931, 932, 933, 934, 935, 936, 937, 938, 939,\n",
       "        940, 941, 942, 943, 944, 945, 946, 947, 948, 949, 950, 951, 952,\n",
       "        953, 954, 955, 956, 957, 958, 959, 960, 961, 962, 963, 964, 965,\n",
       "        966, 967, 968, 969, 970, 971, 972, 973, 974, 975, 976, 977, 978,\n",
       "        979, 980, 981, 982, 983, 984, 985, 986, 987, 988, 989, 990, 991,\n",
       "        992, 993, 994, 995, 996, 997, 998, 999], dtype=int64),)"
      ]
     },
     "execution_count": 14,
     "metadata": {},
     "output_type": "execute_result"
    }
   ],
   "source": [
    "He_He_r = np.linspace(2,3,1000)\n",
    "szalewicz_V1 = potential.szalewicz_2012(He_He_r)\n",
    "np.where(szalewicz_V1<0)"
   ]
  },
  {
   "cell_type": "code",
   "execution_count": 15,
   "metadata": {},
   "outputs": [
    {
     "data": {
      "text/plain": [
       "2.6426426426426426"
      ]
     },
     "execution_count": 15,
     "metadata": {},
     "output_type": "execute_result"
    }
   ],
   "source": [
    "He_He_r[642]"
   ]
  },
  {
   "cell_type": "code",
   "execution_count": null,
   "metadata": {},
   "outputs": [],
   "source": []
  }
 ],
 "metadata": {
  "kernelspec": {
   "display_name": "Python 3",
   "language": "python",
   "name": "python3"
  },
  "language_info": {
   "codemirror_mode": {
    "name": "ipython",
    "version": 3
   },
   "file_extension": ".py",
   "mimetype": "text/x-python",
   "name": "python",
   "nbconvert_exporter": "python",
   "pygments_lexer": "ipython3",
   "version": "3.7.3"
  }
 },
 "nbformat": 4,
 "nbformat_minor": 2
}
