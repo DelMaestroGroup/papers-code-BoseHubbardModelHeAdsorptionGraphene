{
 "cells": [
  {
   "cell_type": "code",
   "execution_count": 1,
   "metadata": {},
   "outputs": [],
   "source": [
    "import potential\n",
    "from potential import Aziz_params\n",
    "from graphenetools import GrapheneTools as gt\n",
    "import sys,os"
   ]
  },
  {
   "cell_type": "code",
   "execution_count": 2,
   "metadata": {},
   "outputs": [],
   "source": [
    "import numpy as np\n",
    "import matplotlib.pyplot as plt\n",
    "from matplotlib import cm\n",
    "import matplotlib.gridspec as gridspec\n",
    "from matplotlib.ticker import (MultipleLocator, FormatStrFormatter,\n",
    "                               AutoMinorLocator)\n",
    "%matplotlib inline"
   ]
  },
  {
   "cell_type": "code",
   "execution_count": 3,
   "metadata": {},
   "outputs": [],
   "source": [
    "He_He_V_MP2 = np.loadtxt('He_He_MP2.csv', delimiter = ',', skiprows = 1)\n",
    "He_Graphene_V_MP2 = np.loadtxt('He_Graphene_MP2.csv', delimiter = ',', skiprows = 1)"
   ]
  },
  {
   "cell_type": "code",
   "execution_count": 4,
   "metadata": {},
   "outputs": [],
   "source": [
    "He_He_V_dat = np.loadtxt('He_He_V.csv', delimiter = ',', skiprows = 1)\n",
    "He_Graphene_1_dat = np.loadtxt('Single_He_Graphene_V.csv', delimiter = ',', skiprows = 1)\n",
    "He_barrier_dat = np.loadtxt('Single_He_opt_V_moving_over_barrier.csv', delimiter = ',', skiprows = 1)\n",
    "He_Graphite_dat = np.loadtxt('He_Graphite_3.txt', skiprows = 1)"
   ]
  },
  {
   "cell_type": "code",
   "execution_count": 5,
   "metadata": {},
   "outputs": [],
   "source": [
    "sigmaHapp = 2.643\n",
    "epsilonHapp = 16.961\n",
    "\n",
    "sigma1 = 2.74\n",
    "epsilon1 = 16.2463\n",
    "\n",
    "a = gt(notebook=True, strain=0.0)\n",
    "\n",
    "zz = He_Graphene_1_dat[:,0]\n",
    "V = a.V_0(zz, a.lattice.A, epsilonHapp, sigmaHapp)\n",
    "\n",
    "zz = He_Graphene_1_dat[:,0]\n",
    "V_Graphite_1 = a.V_0(zz, a.lattice.A, epsilon1, sigma1)\n",
    "\n",
    "z_Graphite_Composite = He_Graphite_dat[:, 0]\n",
    "V_Graphite_Composite = He_Graphite_dat[:, 1]\n",
    "\n",
    "z_MP2 = He_He_V_MP2[:, 0]\n",
    "V_MP2 = He_He_V_MP2[:, 1]\n",
    "\n",
    "z_G_MP2 = He_Graphene_V_MP2[:, 0]\n",
    "V_G_MP2 = He_Graphene_V_MP2[:, 1]\n",
    "\n",
    "szalewicz_V = potential.szalewicz_2012(He_He_V_dat[:,0])\n",
    "aziz_95_V = potential.aziz(He_He_V_dat[:,0], Aziz_params['1995'])"
   ]
  },
  {
   "cell_type": "code",
   "execution_count": 6,
   "metadata": {},
   "outputs": [
    {
     "data": {
      "text/plain": [
       "{'ε': 10.956,\n",
       " 'rₘ': 2.9683,\n",
       " 'D': 1.438,\n",
       " 'α': 10.5717543,\n",
       " 'β': -2.07758779,\n",
       " 'C': array([0.        , 0.        , 0.        , 0.        , 0.        ,\n",
       "        0.        , 1.35186623, 0.        , 0.4149514 , 0.        ,\n",
       "        0.17151143]),\n",
       " 'A': 186924.404}"
      ]
     },
     "execution_count": 6,
     "metadata": {},
     "output_type": "execute_result"
    }
   ],
   "source": [
    "Aziz_params['1995']"
   ]
  },
  {
   "cell_type": "code",
   "execution_count": 7,
   "metadata": {},
   "outputs": [],
   "source": [
    "plt.style.use('../aps.mplstyle')"
   ]
  },
  {
   "cell_type": "raw",
   "metadata": {},
   "source": [
    "plot_style = {'notebook':'../notebook.mplstyle','aps':'../aps.mplstyle'}\n",
    "plt.style.reload_library()\n",
    "plt.style.use(plot_style['aps'])\n",
    "figsize = plt.rcParams['figure.figsize']\n",
    "plt.rcParams['text.latex.preamble'] = f'\\input{{{os.getcwd()}{os.path.sep}..{os.path.sep}texheader}}'"
   ]
  },
  {
   "cell_type": "code",
   "execution_count": 8,
   "metadata": {
    "scrolled": true
   },
   "outputs": [
    {
     "data": {
      "text/plain": [
       "<matplotlib.legend.Legend at 0x244fed43390>"
      ]
     },
     "execution_count": 8,
     "metadata": {},
     "output_type": "execute_result"
    },
    {
     "name": "stderr",
     "output_type": "stream",
     "text": [
      "findfont: Font family ['serif'] not found. Falling back to DejaVu Sans.\n"
     ]
    },
    {
     "data": {
      "image/png": "[encoded data removed]",
      "text/plain": [
       "<Figure size 245.081x151.469 with 2 Axes>"
      ]
     },
     "metadata": {
      "needs_background": "light"
     },
     "output_type": "display_data"
    }
   ],
   "source": [
    "cmap = plt.cm.get_cmap('viridis')\n",
    "\n",
    "colors = [cmap(i*0.3) for i in range(4)]\n",
    "\n",
    "fig, ax = plt.subplots(1, 2) \n",
    "ax[0].plot(He_He_V_dat[:,0], szalewicz_V, color = colors[0])\n",
    "ax[0].plot(He_He_V_dat[:,0], He_He_V_dat[:,2], color = colors[1])\n",
    "ax[0].plot(z_MP2, V_MP2, label = 'MP2', color = colors[3], linewidth=1)\n",
    "ax[0].set_xlim(2.2, 5.5)\n",
    "ax[0].set_ylim(-50,100)\n",
    "ax[0].set_title(\"He-He\")\n",
    "ax[0].set_xlabel(r'$r$(\\AA)')\n",
    "ax[0].set_ylabel(r'V(K)')\n",
    "ax[0].xaxis.set_minor_locator(MultipleLocator(0.5))\n",
    "ax[0].tick_params(which='minor', direction=\"out\", top = False, bottom=True, left=False, right=True, labelleft = False,\n",
    "                                   labelright = True, length=2.5)\n",
    "ax[0].tick_params(which='major', direction=\"out\", top = False, bottom=True, left=True, right=False, length=4)\n",
    "\n",
    "\n",
    "ax[1].plot(zz,V, label = 'QMC', color = colors[0])\n",
    "ax[1].plot(He_Graphene_1_dat[:,0], He_Graphene_1_dat[:,2], label = 'DFT', color = colors[1])\n",
    "#ax[1].plot(zz,V1, label = 'Graphite')\n",
    "ax[1].plot(z_G_MP2, V_G_MP2, color = colors[3], linewidth=1)\n",
    "#ax[1].plot(z_Graphite_Composite,V_Graphite_Composite, label = 'Graphite?', color = colors[2], linewidth=1)\n",
    "ax[1].set_xlim(2.01, 5.5)\n",
    "ax[1].set_ylim(-400,400)\n",
    "ax[1].yaxis.set_label_position(\"right\")\n",
    "ax[1].set_title(\"He-Graphene\")\n",
    "ax[1].set_xlabel(r'$z$(\\AA)')\n",
    "ax[1].xaxis.set_minor_locator(MultipleLocator(0.5))\n",
    "ax[1].tick_params(which='minor', direction=\"out\", top = False, bottom=True, left=False, right=True, labelleft = False,\n",
    "                                   labelright = True, length=2.5)\n",
    "ax[1].tick_params(which='major', direction=\"out\", top = False, bottom=True, left=False, right=True, labelleft = False,\n",
    "                                   labelright = True, length=4)\n",
    "\n",
    "fig.subplots_adjust(wspace=0.03, top=0.6)\n",
    "\n",
    "handles, labels = ax[0].get_legend_handles_labels()\n",
    "handles2, labels2 = ax[1].get_legend_handles_labels()\n",
    "handles.extend(handles2)\n",
    "labels.extend(labels2)\n",
    "fig.legend(handles, labels, loc='upper center', frameon = True, ncol=3)\n",
    "\n",
    "\n",
    "#plt.legend()\n",
    "#plt.show()\n",
    "\n",
    "#plt.savefig('He_Graphene_Potential.pdf', transparent=False) \n",
    "#plt.savefig('He_Graphene_Potential.svg', transparent=False) "
   ]
  },
  {
   "cell_type": "code",
   "execution_count": 9,
   "metadata": {},
   "outputs": [
    {
     "data": {
      "text/plain": [
       "99"
      ]
     },
     "execution_count": 9,
     "metadata": {},
     "output_type": "execute_result"
    }
   ],
   "source": [
    "len(szalewicz_V)"
   ]
  },
  {
   "cell_type": "code",
   "execution_count": 10,
   "metadata": {},
   "outputs": [],
   "source": [
    "he_out = np.zeros((len(szalewicz_V), 12))\n",
    "he_out[:,0] = He_He_V_dat[:,0]\n",
    "he_out[:,1] = szalewicz_V\n",
    "he_out[:,2] = He_He_V_dat[:,0]\n",
    "he_out[:,3] = He_He_V_dat[:,2]\n",
    "he_out[:len(z_MP2),4] = z_MP2\n",
    "he_out[:len(V_MP2),5] = V_MP2\n",
    "he_out[:len(zz),6] = zz\n",
    "he_out[:len(V),7] = V\n",
    "he_out[:len(He_Graphene_1_dat[:,0]),8] = He_Graphene_1_dat[:,0]\n",
    "he_out[:len(He_Graphene_1_dat[:,2]),9] = He_Graphene_1_dat[:,2]\n",
    "he_out[:len(z_G_MP2),10] = z_G_MP2\n",
    "he_out[:len(V_G_MP2),11] = V_G_MP2\n"
   ]
  },
  {
   "cell_type": "code",
   "execution_count": 11,
   "metadata": {},
   "outputs": [],
   "source": [
    "np.savetxt(\"He_potential.txt\",he_out)"
   ]
  },
  {
   "cell_type": "code",
   "execution_count": 12,
   "metadata": {},
   "outputs": [
    {
     "ename": "NameError",
     "evalue": "name 'He_He_V_r' is not defined",
     "output_type": "error",
     "traceback": [
      "\u001b[1;31m---------------------------------------------------------------------------\u001b[0m",
      "\u001b[1;31mNameError\u001b[0m                                 Traceback (most recent call last)",
      "\u001b[1;32m<ipython-input-12-186693596f94>\u001b[0m in \u001b[0;36m<module>\u001b[1;34m\u001b[0m\n\u001b[1;32m----> 1\u001b[1;33m \u001b[0mlen\u001b[0m\u001b[1;33m(\u001b[0m\u001b[0mHe_He_V_r\u001b[0m\u001b[1;33m)\u001b[0m\u001b[1;33m\u001b[0m\u001b[1;33m\u001b[0m\u001b[0m\n\u001b[0m",
      "\u001b[1;31mNameError\u001b[0m: name 'He_He_V_r' is not defined"
     ]
    }
   ],
   "source": [
    "len(He_He_V_r)"
   ]
  },
  {
   "cell_type": "code",
   "execution_count": null,
   "metadata": {},
   "outputs": [],
   "source": [
    "np.shape(He_Graphene_1_dat)"
   ]
  },
  {
   "cell_type": "code",
   "execution_count": null,
   "metadata": {},
   "outputs": [],
   "source": [
    "np.min(V_Graphite_Composite)"
   ]
  },
  {
   "cell_type": "code",
   "execution_count": null,
   "metadata": {},
   "outputs": [],
   "source": [
    "np.where(szalewicz_V<0)"
   ]
  },
  {
   "cell_type": "code",
   "execution_count": null,
   "metadata": {},
   "outputs": [],
   "source": [
    "He_He_r = np.linspace(2,3,1000)\n",
    "szalewicz_V1 = potential.szalewicz_2012(He_He_r)\n",
    "np.where(szalewicz_V1<0)"
   ]
  },
  {
   "cell_type": "code",
   "execution_count": null,
   "metadata": {},
   "outputs": [],
   "source": [
    "He_He_r[642]"
   ]
  },
  {
   "cell_type": "code",
   "execution_count": null,
   "metadata": {},
   "outputs": [],
   "source": []
  }
 ],
 "metadata": {
  "kernelspec": {
   "display_name": "Python 3",
   "language": "python",
   "name": "python3"
  },
  "language_info": {
   "codemirror_mode": {
    "name": "ipython",
    "version": 3
   },
   "file_extension": ".py",
   "mimetype": "text/x-python",
   "name": "python",
   "nbconvert_exporter": "python",
   "pygments_lexer": "ipython3",
   "version": "3.7.3"
  }
 },
 "nbformat": 4,
 "nbformat_minor": 2
}
