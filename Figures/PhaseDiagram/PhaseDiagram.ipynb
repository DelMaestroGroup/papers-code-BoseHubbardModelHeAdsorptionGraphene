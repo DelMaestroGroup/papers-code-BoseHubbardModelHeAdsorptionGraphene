{
 "cells": [
  {
   "cell_type": "code",
   "execution_count": 1,
   "metadata": {},
   "outputs": [],
   "source": [
    "import numpy as np\n",
    "import matplotlib.pyplot as plt\n",
    "import pickle\n",
    "from scipy import interpolate\n",
    "#%matplotlib inline"
   ]
  },
  {
   "cell_type": "markdown",
   "metadata": {},
   "source": [
    "load data"
   ]
  },
  {
   "cell_type": "code",
   "execution_count": 2,
   "metadata": {},
   "outputs": [],
   "source": [
    "PhaseDiagramDat = np.loadtxt(\"../../Data/PhaseDiagram.txt\", delimiter = \",\")"
   ]
  },
  {
   "cell_type": "markdown",
   "metadata": {},
   "source": [
    "plotting"
   ]
  },
  {
   "cell_type": "code",
   "execution_count": 3,
   "metadata": {},
   "outputs": [],
   "source": [
    "plt.style.use('../aps1.mplstyle')"
   ]
  },
  {
   "cell_type": "code",
   "execution_count": 4,
   "metadata": {},
   "outputs": [
    {
     "data": {
      "image/png": "[encoded data removed]",
      "text/plain": [
       "<Figure size 245.081x151.469 with 1 Axes>"
      ]
     },
     "metadata": {
      "needs_background": "light"
     },
     "output_type": "display_data"
    }
   ],
   "source": [
    "plt.plot(PhaseDiagramDat[:,0], PhaseDiagramDat[:,1], color = 'black', linewidth = 0.8)\n",
    "plt.plot(PhaseDiagramDat[:,2], PhaseDiagramDat[:,3], color = 'black', linewidth = 0.8)\n",
    "plt.plot(PhaseDiagramDat[:,4], PhaseDiagramDat[:,5], color = 'black', linewidth = 0.8)\n",
    "plt.plot(PhaseDiagramDat[:,0], -PhaseDiagramDat[:,1]+6, color = 'black', linewidth = 0.8)\n",
    "plt.plot(PhaseDiagramDat[:,2], -PhaseDiagramDat[:,3]+6, color = 'black', linewidth = 0.8)\n",
    "plt.plot(PhaseDiagramDat[:,4], -PhaseDiagramDat[:,5]+6, color = 'black', linewidth = 0.8)\n",
    "\n",
    "ax = plt.gca()\n",
    "ax.set_facecolor(\"#f2f2f2\")\n",
    "\n",
    "plt.fill_between(PhaseDiagramDat[:,4], PhaseDiagramDat[:,5], 1.5, color = \"#d9d9d9\")\n",
    "plt.fill_between(PhaseDiagramDat[:,2], 1.5, PhaseDiagramDat[:,3], color = \"#d9d9d9\")\n",
    "\n",
    "plt.fill_between(PhaseDiagramDat[:,2], PhaseDiagramDat[:,3], -PhaseDiagramDat[:,3]+6, color = \"#bfbfbf\")\n",
    "\n",
    "plt.fill_between(PhaseDiagramDat[:,2], -PhaseDiagramDat[:,3]+6, 4.5, color = \"#d9d9d9\")\n",
    "plt.fill_between(PhaseDiagramDat[:,4], 4.5, -PhaseDiagramDat[:,5]+6, color = \"#d9d9d9\")\n",
    "\n",
    "plt.text(0.24,0.5, 'SF')\n",
    "plt.text(0.2,3, 'SS')\n",
    "plt.text(0.05,1.5, r'$1/3$ Filling Insulator')\n",
    "plt.text(0.05,4.5, r'$2/3$ Filling Insulator')\n",
    "\n",
    "plt.xlim(0, 0.26)\n",
    "plt.ylim(0, 6.0)\n",
    "\n",
    "plt.xlabel(r'$t/V$')\n",
    "plt.ylabel(r'$\\mu/V$')\n",
    "\n",
    "plt.savefig('PhaseDiagram.pdf', transparent=False) \n",
    "plt.savefig('PhaseDiagram.svg', transparent=False) \n",
    "\n",
    "plt.show()"
   ]
  },
  {
   "cell_type": "code",
   "execution_count": null,
   "metadata": {},
   "outputs": [],
   "source": []
  }
 ],
 "metadata": {
  "kernelspec": {
   "display_name": "Python 3",
   "language": "python",
   "name": "python3"
  },
  "language_info": {
   "codemirror_mode": {
    "name": "ipython",
    "version": 3
   },
   "file_extension": ".py",
   "mimetype": "text/x-python",
   "name": "python",
   "nbconvert_exporter": "python",
   "pygments_lexer": "ipython3",
   "version": "3.7.3"
  }
 },
 "nbformat": 4,
 "nbformat_minor": 2
}
