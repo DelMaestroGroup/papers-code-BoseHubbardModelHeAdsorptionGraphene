{
 "cells": [
  {
   "cell_type": "code",
   "execution_count": 1,
   "metadata": {},
   "outputs": [],
   "source": [
    "import numpy as np\n",
    "import matplotlib.pyplot as plt\n",
    "import pickle\n",
    "from matplotlib import cm\n",
    "import matplotlib.gridspec as gridspec\n",
    "#%matplotlib inline"
   ]
  },
  {
   "cell_type": "markdown",
   "metadata": {},
   "source": [
    "load Data"
   ]
  },
  {
   "cell_type": "code",
   "execution_count": 2,
   "metadata": {},
   "outputs": [],
   "source": [
    "wannier_xlat = np.loadtxt('../../Data/Wanner_3D_x.txt', delimiter = ',')\n",
    "wannier_ylat = np.loadtxt('../../Data/Wanner_3D_y.txt', delimiter = ',')\n",
    "wannier_lat = np.loadtxt('../../Data/Wanner_3D_rho.txt', delimiter = ',')"
   ]
  },
  {
   "cell_type": "code",
   "execution_count": 3,
   "metadata": {},
   "outputs": [],
   "source": [
    "hartree = np.loadtxt('../../Data/mytable_Hartree.txt', delimiter = ',', skiprows = 2)\n",
    "hartree_fock = np.loadtxt('../../Data/mytable_HartreeFock.txt', delimiter = ',', skiprows = 2)"
   ]
  },
  {
   "cell_type": "markdown",
   "metadata": {},
   "source": [
    "plotting"
   ]
  },
  {
   "cell_type": "code",
   "execution_count": 5,
   "metadata": {},
   "outputs": [],
   "source": [
    "plt.style.use('../aps1.mplstyle')"
   ]
  },
  {
   "cell_type": "raw",
   "metadata": {},
   "source": [
    "fig1 = plt.figure(constrained_layout=True)\n",
    "spec1 = gridspec.GridSpec(ncols=2, nrows=1, figure=fig1, left=0.05, right=0.06)\n",
    "f1_ax1 = fig1.add_subplot(spec1[0, 0])\n",
    "plt.semilogy(wannier_ylat[289,:], np.sqrt(wannier_lat[289,:]), label = \"Wannier\")\n",
    "plt.semilogy(hartree_fock[:,0], (10**(hartree_fock[:,1])), label = \"Hartree-Fock\")\n",
    "plt.semilogy(hartree[:,0], (10**(hartree[:,1])), label = \"Hartree\")\n",
    "plt.xlim(-5, 5)\n",
    "plt.title(\"Free Particle\")\n",
    "plt.xlabel(r'$a_1(\\AA)$')\n",
    "plt.ylabel(r'log($|\\Psi|$)')\n",
    "\n",
    "f1_ax2 = fig1.add_subplot(spec1[0, 1])\n",
    "f1_ax2.set_xticks([])\n",
    "plt.title(\"Unit Filling\")\n",
    "plt.xlabel(r'$a_1$(\\AA)')\n",
    "\n",
    "\n",
    "plt.legend()\n",
    "\n",
    "plt.savefig('WannierCut.pdf', transparent=False) \n",
    "plt.savefig('WannierCut.svg', transparent=False) "
   ]
  },
  {
   "cell_type": "code",
   "execution_count": 14,
   "metadata": {},
   "outputs": [
    {
     "data": {
      "image/png": "[encoded data removed]",
      "text/plain": [
       "<Figure size 245.081x151.469 with 2 Axes>"
      ]
     },
     "metadata": {
      "needs_background": "light"
     },
     "output_type": "display_data"
    }
   ],
   "source": [
    "fig, ax = plt.subplots(1, 2) \n",
    "ax[0].semilogy(wannier_ylat[289,:], np.sqrt(wannier_lat[289,:]), label = \"Wannier\")\n",
    "ax[0].semilogy(hartree_fock[:,0], (10**(hartree_fock[:,1])), label = \"Hartree-Fock\")\n",
    "ax[0].semilogy(hartree[:,0], (10**(hartree[:,1])), label = \"Hartree\")\n",
    "ax[0].set_xlim(-5, 5)\n",
    "ax[0].set_title(\"Free Particle\")\n",
    "ax[0].set_xlabel(r'$a_1$(\\AA)')\n",
    "ax[0].set_ylabel(r'log($|\\Psi|$)')\n",
    "\n",
    "ax[1].set_yticks([])\n",
    "ax[1].set_title(\"Unit Filling\")\n",
    "ax[1].set_xlabel(r'$a_1$(\\AA)')\n",
    "\n",
    "fig.subplots_adjust(wspace=0.03, right = 0.9)\n",
    "\n",
    "handles, labels = ax[0].get_legend_handles_labels()\n",
    "handles2, labels2 = ax[1].get_legend_handles_labels()\n",
    "handles.extend(handles2)\n",
    "labels.extend(labels2)\n",
    "fig.legend(handles, labels, loc='right', frameon = True)\n",
    "\n",
    "\n",
    "#plt.legend()\n",
    "#plt.show()\n",
    "\n",
    "plt.savefig('WannierCut.pdf', transparent=False) \n",
    "plt.savefig('WannierCut.svg', transparent=False) "
   ]
  },
  {
   "cell_type": "code",
   "execution_count": null,
   "metadata": {},
   "outputs": [],
   "source": []
  }
 ],
 "metadata": {
  "kernelspec": {
   "display_name": "Python 3",
   "language": "python",
   "name": "python3"
  },
  "language_info": {
   "codemirror_mode": {
    "name": "ipython",
    "version": 3
   },
   "file_extension": ".py",
   "mimetype": "text/x-python",
   "name": "python",
   "nbconvert_exporter": "python",
   "pygments_lexer": "ipython3",
   "version": "3.7.3"
  }
 },
 "nbformat": 4,
 "nbformat_minor": 2
}
