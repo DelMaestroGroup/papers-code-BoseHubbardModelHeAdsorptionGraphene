{
 "cells": [
  {
   "cell_type": "code",
   "execution_count": 2,
   "metadata": {},
   "outputs": [],
   "source": [
    "import numpy as np\n",
    "import matplotlib.pyplot as plt\n",
    "import pickle\n",
    "from matplotlib import cm\n",
    "import matplotlib.gridspec as gridspec\n",
    "#%matplotlib inline"
   ]
  },
  {
   "cell_type": "markdown",
   "metadata": {},
   "source": [
    "load Data"
   ]
  },
  {
   "cell_type": "code",
   "execution_count": 3,
   "metadata": {},
   "outputs": [],
   "source": [
    "wannier_xlat = np.loadtxt('../../Data/Wanner_3D_x.txt', delimiter = ',')\n",
    "wannier_ylat = np.loadtxt('../../Data/Wanner_3D_y.txt', delimiter = ',')\n",
    "wannier_lat = np.loadtxt('../../Data/Wanner_3D_rho.txt', delimiter = ',')"
   ]
  },
  {
   "cell_type": "markdown",
   "metadata": {},
   "source": [
    "plotting"
   ]
  },
  {
   "cell_type": "code",
   "execution_count": 5,
   "metadata": {},
   "outputs": [],
   "source": [
    "plt.style.use('../aps1.mplstyle')"
   ]
  },
  {
   "cell_type": "code",
   "execution_count": 37,
   "metadata": {},
   "outputs": [
    {
     "name": "stderr",
     "output_type": "stream",
     "text": [
      "No handles with labels found to put in legend.\n"
     ]
    },
    {
     "data": {
      "image/png": "[encoded data removed]",
      "text/plain": [
       "<Figure size 245.081x151.469 with 2 Axes>"
      ]
     },
     "metadata": {
      "needs_background": "light"
     },
     "output_type": "display_data"
    }
   ],
   "source": [
    "fig1 = plt.figure(constrained_layout=True)\n",
    "spec1 = gridspec.GridSpec(ncols=2, nrows=1, figure=fig1)\n",
    "f1_ax1 = fig1.add_subplot(spec1[0, 0])\n",
    "plt.semilogy(wannier_xlat[289,144:432], wannier_lat[289,144:432])\n",
    "plt.title(\"Free Particle\")\n",
    "plt.xlabel(r'$a_1(\\AA)$')\n",
    "plt.ylabel(r'$|\\Psi|^2$')\n",
    "plt.legend()\n",
    "\n",
    "f1_ax2 = fig1.add_subplot(spec1[0, 1])\n",
    "plt.title(\"Unit Filling\")\n",
    "plt.xlabel(r'$a_1$(\\AA)')\n",
    "\n",
    "plt.savefig('WannierCut.pdf', transparent=False) \n",
    "plt.savefig('WannierCut.svg', transparent=False) "
   ]
  },
  {
   "cell_type": "code",
   "execution_count": null,
   "metadata": {},
   "outputs": [],
   "source": []
  }
 ],
 "metadata": {
  "kernelspec": {
   "display_name": "Python 3",
   "language": "python",
   "name": "python3"
  },
  "language_info": {
   "codemirror_mode": {
    "name": "ipython",
    "version": 3
   },
   "file_extension": ".py",
   "mimetype": "text/x-python",
   "name": "python",
   "nbconvert_exporter": "python",
   "pygments_lexer": "ipython3",
   "version": "3.7.3"
  }
 },
 "nbformat": 4,
 "nbformat_minor": 2
}
