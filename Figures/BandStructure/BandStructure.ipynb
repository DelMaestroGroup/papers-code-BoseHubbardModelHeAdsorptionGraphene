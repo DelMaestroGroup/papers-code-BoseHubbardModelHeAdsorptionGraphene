{
 "cells": [
  {
   "cell_type": "code",
   "execution_count": 2,
   "metadata": {},
   "outputs": [],
   "source": [
    "import numpy as np\n",
    "import matplotlib.pyplot as plt\n",
    "import pickle\n",
    "#%matplotlib inline"
   ]
  },
  {
   "cell_type": "markdown",
   "metadata": {},
   "source": [
    "load data"
   ]
  },
  {
   "cell_type": "code",
   "execution_count": 70,
   "metadata": {},
   "outputs": [],
   "source": [
    "GMKG = np.loadtxt('../../Data/BandStructure.txt', delimiter = ',')\n",
    "\n",
    "GMKG_Length = GMKG[:, 0]\n",
    "GMKG_Bands = GMKG[:, 1:]\n",
    "First_band_max = np.ones(len(GMKG_Length))*np.max(GMKG[:, 1])\n",
    "First_band_min = np.ones(len(GMKG_Length))*np.min(GMKG[:, 1])"
   ]
  },
  {
   "cell_type": "markdown",
   "metadata": {},
   "source": [
    "plotting"
   ]
  },
  {
   "cell_type": "code",
   "execution_count": 71,
   "metadata": {},
   "outputs": [],
   "source": [
    "plt.style.use('../aps1.mplstyle')"
   ]
  },
  {
   "cell_type": "markdown",
   "metadata": {},
   "source": [
    "Make different bands different colors"
   ]
  },
  {
   "cell_type": "code",
   "execution_count": 83,
   "metadata": {},
   "outputs": [
    {
     "data": {
      "image/png": "[encoded data removed]",
      "text/plain": [
       "<Figure size 245.081x151.469 with 1 Axes>"
      ]
     },
     "metadata": {
      "needs_background": "light"
     },
     "output_type": "display_data"
    }
   ],
   "source": [
    "plt.axvline(GMKG_Length[24], color = 'black', linewidth = 0.8)\n",
    "plt.axvline(GMKG_Length[32], color = 'black', linewidth = 0.8)\n",
    "\n",
    "plt.plot(GMKG_Length, First_band_max, c = 'grey', lw = 0.8)\n",
    "plt.plot(GMKG_Length, First_band_min, c = 'grey', lw = 0.8)\n",
    "plt.fill_between(GMKG_Length, First_band_min, First_band_max, color = 'lightgrey')\n",
    "\n",
    "plt.plot(GMKG_Length, GMKG_Bands[:, 0], c = 'black', lw = 1)\n",
    "plt.plot(GMKG_Length[0:33], GMKG_Bands[0:33, 1], c = 'blue', lw = 1)\n",
    "plt.plot(GMKG_Length[0:33], GMKG_Bands[0:33, 2], c = 'red', lw = 1)\n",
    "plt.plot(GMKG_Length[32:], GMKG_Bands[32:, 1], c = 'red', lw = 1)\n",
    "plt.plot(GMKG_Length[32:], GMKG_Bands[32:, 2], c = 'blue', lw = 1)\n",
    "plt.plot(GMKG_Length, GMKG_Bands[:, 3], c = 'lime', lw = 1)\n",
    "\n",
    "\n",
    "plt.xlim(GMKG_Length[0], GMKG_Length[-1])\n",
    "\n",
    "plt.xticks([GMKG_Length[0], GMKG_Length[24], GMKG_Length[32], GMKG_Length[40]], \n",
    "           [r'$\\Gamma$', r'$M$', r'$K$' , r'$\\Gamma$'])\n",
    "plt.tick_params(top=False)\n",
    "\n",
    "plt.ylabel(\"Energy (K)\")\n",
    "\n",
    "plt.savefig('BandStructure.pdf', transparent=False) \n",
    "plt.savefig('BandStructure.svg', transparent=False) \n",
    "\n",
    "plt.show()"
   ]
  },
  {
   "cell_type": "code",
   "execution_count": 68,
   "metadata": {},
   "outputs": [
    {
     "data": {
      "text/plain": [
       "-169.25986232254255"
      ]
     },
     "execution_count": 68,
     "metadata": {},
     "output_type": "execute_result"
    }
   ],
   "source": [
    " np.min(GMKG[:, 1])"
   ]
  },
  {
   "cell_type": "code",
   "execution_count": null,
   "metadata": {},
   "outputs": [],
   "source": []
  }
 ],
 "metadata": {
  "kernelspec": {
   "display_name": "Python 3",
   "language": "python",
   "name": "python3"
  },
  "language_info": {
   "codemirror_mode": {
    "name": "ipython",
    "version": 3
   },
   "file_extension": ".py",
   "mimetype": "text/x-python",
   "name": "python",
   "nbconvert_exporter": "python",
   "pygments_lexer": "ipython3",
   "version": "3.7.3"
  }
 },
 "nbformat": 4,
 "nbformat_minor": 2
}
