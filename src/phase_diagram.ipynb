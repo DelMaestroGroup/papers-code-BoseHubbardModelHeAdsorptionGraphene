{
 "cells": [
  {
   "cell_type": "code",
   "execution_count": 99,
   "metadata": {},
   "outputs": [],
   "source": [
    "import numpy as np\n",
    "import matplotlib.pyplot as plt\n",
    "import pickle\n",
    "from scipy import interpolate\n",
    "import re,glob,os\n",
    "#%matplotlib inline\n",
    "\n",
    "# plot style\n",
    "plot_style = {'notebook':'../include/notebook.mplstyle','aps':'../include/aps.mplstyle'}\n",
    "plt.style.reload_library()\n",
    "plt.style.use(plot_style['aps'])\n",
    "figsize = plt.rcParams['figure.figsize']\n",
    "plt.rcParams['text.latex.preamble'] = f'\\input{{{os.getcwd()}/../include/texheader}}'\n",
    "import dgutils.colors as colortools\n"
   ]
  },
  {
   "cell_type": "markdown",
   "metadata": {},
   "source": [
    "load data"
   ]
  },
  {
   "cell_type": "code",
   "execution_count": 2,
   "metadata": {},
   "outputs": [],
   "source": [
    "PhaseDiagramDat = np.loadtxt(\"../data/phase_diagram.txt\", delimiter = \",\")"
   ]
  },
  {
   "cell_type": "markdown",
   "metadata": {},
   "source": [
    "plotting"
   ]
  },
  {
   "cell_type": "code",
   "execution_count": 3,
   "metadata": {},
   "outputs": [
    {
     "data": {
      "image/png": "[encoded data removed]",
      "text/plain": [
       "<Figure size 245.081x151.469 with 1 Axes>"
      ]
     },
     "metadata": {
      "needs_background": "light"
     },
     "output_type": "display_data"
    }
   ],
   "source": [
    "colors = [\"#d43e4e\", \"#abdda4\", \"#3288bc\", \"#6a006a\"]\n",
    "cmap = plt.cm.get_cmap('viridis')\n",
    "colors2 = [cmap(i*0.3) for i in range(4)]\n",
    "\n",
    "plt.plot(PhaseDiagramDat[:,0], PhaseDiagramDat[:,1], color = 'black', linewidth = 0.8)\n",
    "plt.plot(PhaseDiagramDat[:,2], PhaseDiagramDat[:,3], color = 'black', linewidth = 0.8, linestyle = \"--\")\n",
    "plt.plot(PhaseDiagramDat[:,4], PhaseDiagramDat[:,5], color = 'black', linewidth = 0.8)\n",
    "plt.plot(PhaseDiagramDat[:,0], -PhaseDiagramDat[:,1]+6, color = 'black', linewidth = 0.8)\n",
    "plt.plot(PhaseDiagramDat[:,2], -PhaseDiagramDat[:,3]+6, color = 'black', linewidth = 0.8, linestyle = \"--\")\n",
    "plt.plot(PhaseDiagramDat[:,4], -PhaseDiagramDat[:,5]+6, color = 'black', linewidth = 0.8)\n",
    "\n",
    "ax = plt.gca()\n",
    "#ax.set_facecolor(\"#f2f2f2\")\n",
    "\n",
    "plt.fill_between(PhaseDiagramDat[:,4], PhaseDiagramDat[:,5], 1.5, color = \"#f2f2f2\")\n",
    "plt.fill_between(PhaseDiagramDat[:,2], 1.5, PhaseDiagramDat[:,3], color = \"#f2f2f2\")\n",
    "\n",
    "plt.fill_between(PhaseDiagramDat[:,2], PhaseDiagramDat[:,3], -PhaseDiagramDat[:,3]+6, color = \"#d9d9d9\")\n",
    "\n",
    "plt.fill_between(PhaseDiagramDat[:,2], -PhaseDiagramDat[:,3]+6, 4.5, color = \"#f2f2f2\")\n",
    "plt.fill_between(PhaseDiagramDat[:,4], 4.5, -PhaseDiagramDat[:,5]+6, color = \"#f2f2f2\")\n",
    "\n",
    "ax.scatter(0.021, 1.5, color = colors2[1], s = 10, label = \"HF\", marker = '^')\n",
    "ax.scatter(0.025, 1.5, color = colors[0], s = 10, label = \"QMC\")\n",
    "ax.scatter(0.051, 1.5, color = colors[2], s = 10, label = \"DFT\", marker = 's')\n",
    "ax.scatter(0.011, 1.5, color = colors[1], s = 10, label = \"MP2\", marker = 'd')\n",
    "\n",
    "plt.legend()\n",
    "\n",
    "plt.text(0.23,0.4, 'superfluid')\n",
    "plt.text(0.15,3, 'supersolid')\n",
    "plt.text(0.1,1.0, r'solid $f = 1/3$')\n",
    "plt.text(0.1,4.5, r'solid $f = 2/3$')\n",
    "\n",
    "plt.xlim(0, 0.299)\n",
    "plt.ylim(0, 5.999)\n",
    "\n",
    "plt.xlabel(r'$t/V$')\n",
    "plt.ylabel(r'$\\mu/V$')\n",
    "\n",
    "plt.savefig('../plots/phase_diagram.pdf', dpi=300, transparent=False, bbox_inches ='tight') \n",
    "plt.savefig('../plots/phase_diagram.svg', bbox_inches ='tight') \n",
    "plt.show()"
   ]
  },
  {
   "cell_type": "markdown",
   "metadata": {},
   "source": [
    "## Alternate: Combined Results + Phase Diagram"
   ]
  },
  {
   "cell_type": "code",
   "execution_count": 100,
   "metadata": {},
   "outputs": [],
   "source": [
    "props = {}\n",
    "props['HF'] = {'mfc':'White', 'mec':colors[0], 'ms':3, 'label':'HF', 'marker':'^', 'mew':0.6,'zorder':-2, 'lw':0}\n",
    "props['QMC'] = {'mfc':colortools.get_alpha_hex(colors[0],0.8), 'mec':colors[0], 'ms':3, 'label':'QMC', 'marker':'o', 'mew':0.6,'zorder':2, 'lw':0}\n",
    "props['DFT'] = {'mfc':colortools.get_alpha_hex(colors[2],0.8), 'mec':colors[2], 'ms':3, 'label':'DFT', 'marker':'s', 'mew':0.6,'zorder':-2, 'lw':0}\n",
    "props['MP2'] = {'mfc':colortools.get_alpha_hex(colors[1],0.8), 'mec':colors[1], 'ms':3, 'label':'MP2', 'marker':'D', 'mew':0.6,'zorder':-2, 'lw':0}\n",
    "\n",
    "methods = ['HF','QMC','DFT','MP2']\n",
    "\n",
    "toV = {'HF':0.021, 'QMC':0.025 , 'DFT':0.051, 'MP2':0.011}"
   ]
  },
  {
   "cell_type": "code",
   "execution_count": 101,
   "metadata": {},
   "outputs": [
    {
     "data": {
      "image/png": "[encoded data removed]",
      "text/plain": [
       "<Figure size 245.081x151.469 with 3 Axes>"
      ]
     },
     "metadata": {
      "needs_background": "light"
     },
     "output_type": "display_data"
    }
   ],
   "source": [
    "colors = [\"#d43e4e\", \"#abdda4\", \"#3288bc\", \"#6a006a\"]\n",
    "cmap = plt.cm.get_cmap('viridis')\n",
    "colors2 = [cmap(i*0.3) for i in range(4)]\n",
    "\n",
    "fig,ax = plt.subplots()\n",
    "\n",
    "ax.plot(PhaseDiagramDat[:,0], PhaseDiagramDat[:,1], color = 'black', linewidth = 0.8)\n",
    "ax.plot(PhaseDiagramDat[:,2], PhaseDiagramDat[:,3], color = 'black', linewidth = 0.8, linestyle = \"--\")\n",
    "ax.plot(PhaseDiagramDat[:,4], PhaseDiagramDat[:,5], color = 'black', linewidth = 0.8)\n",
    "ax.plot(PhaseDiagramDat[:,0], -PhaseDiagramDat[:,1]+6, color = 'black', linewidth = 0.8)\n",
    "ax.plot(PhaseDiagramDat[:,2], -PhaseDiagramDat[:,3]+6, color = 'black', linewidth = 0.8, linestyle = \"--\")\n",
    "ax.plot(PhaseDiagramDat[:,4], -PhaseDiagramDat[:,5]+6, color = 'black', linewidth = 0.8)\n",
    "\n",
    "# ax.scatter(0.021, 1.5, edgecolor = colors[0], color='None', s = 12, label = \"HF\", marker = '^', linewidths=0.6)\n",
    "# ax.scatter(0.025, 1.5, color = colors[0], s = 10, label = \"QMC\")\n",
    "# ax.scatter(0.051, 1.5, color = colors[2], s = 10, label = \"DFT\", marker = 's')\n",
    "# ax.scatter(0.011, 1.5, color = colors[1], s = 9, label = \"MP2\", marker = 'D')\n",
    "\n",
    "## Plot the raw data as points\n",
    "for method in methods:\n",
    "    ax.plot(toV[method],1.5,**props[method])\n",
    "\n",
    "\n",
    "plt.legend(loc='lower right', markerscale=0.8)\n",
    "\n",
    "\n",
    "im = plt.imread('../plots/results_table.png',format='png')\n",
    "newax = fig.add_axes([0.535, 0.52, 0.42, 0.353])\n",
    "newax.imshow(im,interpolation='none')\n",
    "newax.axis('off')\n",
    "\n",
    "im = plt.imread('../plots/graphene_cell.png',format='png')\n",
    "newax1 = fig.add_axes([0.1425, 0.265, 0.5, 0.19])\n",
    "newax1.imshow(im,interpolation='none', zorder=-10)\n",
    "newax1.axis('off')\n",
    "\n",
    "ax.text(0.2,0.3, 'superfluid', va='center')\n",
    "ax.text(0.14,3, 'supersolid', va='center')\n",
    "ax.text(0.01,0.3, r'solid $f = 1/3$')\n",
    "ax.text(0.01,4.2, r'solid $f = 2/3$')\n",
    "\n",
    "ax.set_xlim(0, 0.415)\n",
    "ax.set_ylim(0, 4.5)\n",
    "\n",
    "ax.set_xlabel(r'$t/V$')\n",
    "ax.set_ylabel(r'$\\mu/V$')\n",
    "\n",
    "plt.savefig('../plots/phase_diagram_data.pdf', dpi=300, transparent=False, bbox_inches ='tight') \n",
    "#plt.savefig('../plots/phase_diagram.svg', bbox_inches ='tight') \n",
    "plt.show()"
   ]
  },
  {
   "cell_type": "code",
   "execution_count": 95,
   "metadata": {},
   "outputs": [],
   "source": [
    "table_factor = 8620/7240 "
   ]
  },
  {
   "cell_type": "code",
   "execution_count": 96,
   "metadata": {},
   "outputs": [
    {
     "data": {
      "text/plain": [
       "0.35276102088167055"
      ]
     },
     "execution_count": 96,
     "metadata": {},
     "output_type": "execute_result"
    }
   ],
   "source": [
    "0.42/table_factor"
   ]
  },
  {
   "cell_type": "code",
   "execution_count": 97,
   "metadata": {},
   "outputs": [],
   "source": [
    "cell_factor = 3206/1196"
   ]
  },
  {
   "cell_type": "code",
   "execution_count": 98,
   "metadata": {},
   "outputs": [
    {
     "data": {
      "text/plain": [
       "0.18652526512788523"
      ]
     },
     "execution_count": 98,
     "metadata": {},
     "output_type": "execute_result"
    }
   ],
   "source": [
    "0.5/cell_factor"
   ]
  },
  {
   "cell_type": "code",
   "execution_count": null,
   "metadata": {},
   "outputs": [],
   "source": []
  }
 ],
 "metadata": {
  "kernelspec": {
   "display_name": "Python 3",
   "language": "python",
   "name": "python3"
  },
  "language_info": {
   "codemirror_mode": {
    "name": "ipython",
    "version": 3
   },
   "file_extension": ".py",
   "mimetype": "text/x-python",
   "name": "python",
   "nbconvert_exporter": "python",
   "pygments_lexer": "ipython3",
   "version": "3.7.7"
  }
 },
 "nbformat": 4,
 "nbformat_minor": 4
}
