{
 "cells": [
  {
   "cell_type": "code",
   "execution_count": 1,
   "metadata": {},
   "outputs": [],
   "source": [
    "import numpy as np\n",
    "import matplotlib.pyplot as plt\n",
    "import pickle\n",
    "from scipy import interpolate\n",
    "import re,glob,os\n",
    "#%matplotlib inline\n",
    "\n",
    "# plot style\n",
    "plot_style = {'notebook':'../include/notebook.mplstyle','aps':'../include/aps.mplstyle'}\n",
    "plt.style.reload_library()\n",
    "plt.style.use(plot_style['aps'])\n",
    "figsize = plt.rcParams['figure.figsize']\n",
    "plt.rcParams['text.latex.preamble'] = f'\\input{{{os.getcwd()}/../include/texheader}}'"
   ]
  },
  {
   "cell_type": "markdown",
   "metadata": {},
   "source": [
    "load data"
   ]
  },
  {
   "cell_type": "code",
   "execution_count": 2,
   "metadata": {},
   "outputs": [],
   "source": [
    "PhaseDiagramDat = np.loadtxt(\"../data/phase_diagram.txt\", delimiter = \",\")"
   ]
  },
  {
   "cell_type": "markdown",
   "metadata": {},
   "source": [
    "plotting"
   ]
  },
  {
   "cell_type": "code",
   "execution_count": 3,
   "metadata": {},
   "outputs": [
    {
     "data": {
      "image/png": "[encoded data removed]",
      "text/plain": [
       "<Figure size 245.081x151.469 with 1 Axes>"
      ]
     },
     "metadata": {
      "needs_background": "light"
     },
     "output_type": "display_data"
    }
   ],
   "source": [
    "colors = [\"#d43e4e\", \"#abdda4\", \"#3288bc\", \"#6a006a\"]\n",
    "cmap = plt.cm.get_cmap('viridis')\n",
    "colors2 = [cmap(i*0.3) for i in range(4)]\n",
    "\n",
    "plt.plot(PhaseDiagramDat[:,0], PhaseDiagramDat[:,1], color = 'black', linewidth = 0.8)\n",
    "plt.plot(PhaseDiagramDat[:,2], PhaseDiagramDat[:,3], color = 'black', linewidth = 0.8, linestyle = \"--\")\n",
    "plt.plot(PhaseDiagramDat[:,4], PhaseDiagramDat[:,5], color = 'black', linewidth = 0.8)\n",
    "plt.plot(PhaseDiagramDat[:,0], -PhaseDiagramDat[:,1]+6, color = 'black', linewidth = 0.8)\n",
    "plt.plot(PhaseDiagramDat[:,2], -PhaseDiagramDat[:,3]+6, color = 'black', linewidth = 0.8, linestyle = \"--\")\n",
    "plt.plot(PhaseDiagramDat[:,4], -PhaseDiagramDat[:,5]+6, color = 'black', linewidth = 0.8)\n",
    "\n",
    "ax = plt.gca()\n",
    "#ax.set_facecolor(\"#f2f2f2\")\n",
    "\n",
    "plt.fill_between(PhaseDiagramDat[:,4], PhaseDiagramDat[:,5], 1.5, color = \"#f2f2f2\")\n",
    "plt.fill_between(PhaseDiagramDat[:,2], 1.5, PhaseDiagramDat[:,3], color = \"#f2f2f2\")\n",
    "\n",
    "plt.fill_between(PhaseDiagramDat[:,2], PhaseDiagramDat[:,3], -PhaseDiagramDat[:,3]+6, color = \"#d9d9d9\")\n",
    "\n",
    "plt.fill_between(PhaseDiagramDat[:,2], -PhaseDiagramDat[:,3]+6, 4.5, color = \"#f2f2f2\")\n",
    "plt.fill_between(PhaseDiagramDat[:,4], 4.5, -PhaseDiagramDat[:,5]+6, color = \"#f2f2f2\")\n",
    "\n",
    "ax.scatter(0.021, 1.5, color = colors2[1], s = 10, label = \"HF\", marker = '^')\n",
    "ax.scatter(0.025, 1.5, color = colors[0], s = 10, label = \"QMC\")\n",
    "ax.scatter(0.051, 1.5, color = colors[2], s = 10, label = \"DFT\", marker = 's')\n",
    "ax.scatter(0.011, 1.5, color = colors[1], s = 10, label = \"MP2\", marker = 'd')\n",
    "\n",
    "plt.legend()\n",
    "\n",
    "plt.text(0.23,0.4, 'superfluid')\n",
    "plt.text(0.15,3, 'supersolid')\n",
    "plt.text(0.1,1.0, r'solid $f = 1/3$')\n",
    "plt.text(0.1,4.5, r'solid $f = 2/3$')\n",
    "\n",
    "plt.xlim(0, 0.299)\n",
    "plt.ylim(0, 5.999)\n",
    "\n",
    "plt.xlabel(r'$t/V$')\n",
    "plt.ylabel(r'$\\mu/V$')\n",
    "\n",
    "plt.savefig('../plots/phase_diagram.pdf', dpi=300, transparent=False, bbox_inches ='tight') \n",
    "plt.savefig('../plots/phase_diagram.svg', bbox_inches ='tight') \n",
    "plt.show()"
   ]
  },
  {
   "cell_type": "code",
   "execution_count": null,
   "metadata": {},
   "outputs": [],
   "source": []
  },
  {
   "cell_type": "code",
   "execution_count": null,
   "metadata": {},
   "outputs": [],
   "source": []
  }
 ],
 "metadata": {
  "kernelspec": {
   "display_name": "Python 3",
   "language": "python",
   "name": "python3"
  },
  "language_info": {
   "codemirror_mode": {
    "name": "ipython",
    "version": 3
   },
   "file_extension": ".py",
   "mimetype": "text/x-python",
   "name": "python",
   "nbconvert_exporter": "python",
   "pygments_lexer": "ipython3",
   "version": "3.7.7"
  }
 },
 "nbformat": 4,
 "nbformat_minor": 4
}
