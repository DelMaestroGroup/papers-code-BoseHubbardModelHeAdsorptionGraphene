{
 "cells": [
  {
   "cell_type": "code",
   "execution_count": 1,
   "metadata": {},
   "outputs": [],
   "source": [
    "import numpy as np\n",
    "import matplotlib.pyplot as plt\n",
    "import pickle\n",
    "import re,glob,os\n",
    "\n",
    "#%matplotlib inline\n",
    "\n",
    "# plot style\n",
    "plot_style = {'notebook':'../include/notebook.mplstyle','aps':'../include/aps.mplstyle'}\n",
    "plt.style.reload_library()\n",
    "plt.style.use(plot_style['aps'])\n",
    "figsize = plt.rcParams['figure.figsize']\n",
    "plt.rcParams['text.latex.preamble'] = f'\\input{{{os.getcwd()}/../include/texheader}}'"
   ]
  },
  {
   "cell_type": "markdown",
   "metadata": {},
   "source": [
    "load data"
   ]
  },
  {
   "cell_type": "code",
   "execution_count": 2,
   "metadata": {},
   "outputs": [],
   "source": [
    "GMKG = np.loadtxt('../data/band_structure.txt', delimiter = ',')\n",
    "\n",
    "GMKG_Length = GMKG[:, 0]\n",
    "GMKG_Bands = GMKG[:, 1:]\n",
    "First_band_max = np.ones(len(GMKG_Length))*np.max(GMKG[:, 1])\n",
    "First_band_min = np.ones(len(GMKG_Length))*np.min(GMKG[:, 1])"
   ]
  },
  {
   "cell_type": "code",
   "execution_count": 3,
   "metadata": {},
   "outputs": [],
   "source": [
    "GMKG_Length_stretched = 0*GMKG_Length\n",
    "\n",
    "M_length = GMKG_Length[24]\n",
    "K_length = GMKG_Length[32]\n",
    "G_length = GMKG_Length[40]\n",
    "band_M = GMKG_Bands[24]\n",
    "band_K = GMKG_Bands[32]\n",
    "band_G = GMKG_Bands[0]\n",
    "\n",
    "GMKG_Length_stretched[0:25] = GMKG_Length[0:25]\n",
    "GMKG_Length_stretched[25:33] = (GMKG_Length[25:33] - M_length)/(K_length-M_length)*M_length/np.sqrt(3) + M_length\n",
    "GMKG_Length_stretched[33:41] = ((GMKG_Length[33:41] - K_length)/(G_length-K_length)*M_length/np.sqrt(3)*2 \n",
    "                                 + GMKG_Length_stretched[32])"
   ]
  },
  {
   "cell_type": "code",
   "execution_count": 4,
   "metadata": {},
   "outputs": [],
   "source": [
    "g1 = [2*np.pi, 0]\n",
    "g2 = [1*np.pi, np.sqrt(3)*np.pi]\n",
    "g3 = [-1*np.pi, np.sqrt(3)*np.pi]\n",
    "g4 = [3*np.pi, np.sqrt(3)*np.pi]\n",
    "g5 = [0*np.pi, 2*np.sqrt(3)*np.pi]\n",
    "g6 = [-3*np.pi, np.sqrt(3)*np.pi]\n",
    "\n",
    "def bs_cosines(x, y, a, b):\n",
    "    why = 4/(2*np.sqrt(3))\n",
    "    r = [x*why, y*why]\n",
    "    first_set = a*(np.cos(np.dot(r, g1)/2)+np.cos(np.dot(r, g2)/2)+np.cos(np.dot(r, g3)/2))\n",
    "    second_set = b*(np.cos(np.dot(r, g4)/2)+np.cos(np.dot(r, g5)/2)+np.cos(np.dot(r, g6)/2))\n",
    "    combined = first_set + second_set\n",
    "    return  combined\n",
    "\n",
    "def bs_mesh(X, Y, a, b):\n",
    "    band_structure = np.zeros((len(X), len(Y)))\n",
    "    for ix in range(len(X)): \n",
    "        for iy in range(len(Y)):\n",
    "            band_structure[ix, iy] = bs_cosines(X[ix], Y[iy], a, b)\n",
    "            \n",
    "    return band_structure"
   ]
  },
  {
   "cell_type": "code",
   "execution_count": 5,
   "metadata": {},
   "outputs": [
    {
     "name": "stdout",
     "output_type": "stream",
     "text": [
      "10.565054096756\n",
      "13.11216067766199\n"
     ]
    }
   ],
   "source": [
    "print(band_M[0]-band_G[0])\n",
    "print(band_K[0]-band_G[0])"
   ]
  },
  {
   "cell_type": "code",
   "execution_count": 6,
   "metadata": {},
   "outputs": [
    {
     "name": "stdout",
     "output_type": "stream",
     "text": [
      "10.56505392\n",
      "13.11216066\n"
     ]
    }
   ],
   "source": [
    "X = np.linspace(-2,2,100)\n",
    "Y = np.linspace(-2,2,100)\n",
    "a = -2.91381348\n",
    "b = 0.27255\n",
    "\n",
    "fit_0 = bs_cosines(0, 0, a, b)\n",
    "fit_s = bs_cosines(0, 1, a, b)\n",
    "fit_m = bs_cosines(1/np.sqrt(3), 1, a, b)\n",
    "print(fit_s-fit_0)\n",
    "print(fit_m-fit_0)"
   ]
  },
  {
   "cell_type": "code",
   "execution_count": 7,
   "metadata": {},
   "outputs": [],
   "source": [
    "GMKG_cosines = 0*GMKG_Length\n",
    "\n",
    "for i in range(25):\n",
    "    GMKG_cosines[i] = bs_cosines(0, i/25, a, b)\n",
    "    \n",
    "for i in range(25, 33):\n",
    "    GMKG_cosines[i] = bs_cosines((i-24)/np.sqrt(3)/(33-25), 1, a, b)\n",
    "    \n",
    "for i in range(33, 41):\n",
    "    GMKG_cosines[i] = bs_cosines(1/np.sqrt(3) - (i-32)/np.sqrt(3)/(41-33), 1 - (i-32)/(41-33), a, b)\n",
    "    \n",
    "GMKG_cosines = GMKG_cosines - np.min(GMKG_cosines) + np.min(GMKG_Bands)"
   ]
  },
  {
   "cell_type": "markdown",
   "metadata": {},
   "source": [
    "Plotting"
   ]
  },
  {
   "cell_type": "code",
   "execution_count": 8,
   "metadata": {},
   "outputs": [
    {
     "data": {
      "image/png": "[encoded data removed]",
      "text/plain": [
       "<Figure size 245.081x151.469 with 1 Axes>"
      ]
     },
     "metadata": {
      "needs_background": "light"
     },
     "output_type": "display_data"
    }
   ],
   "source": [
    "cmap = plt.cm.get_cmap('viridis')\n",
    "\n",
    "colors = [cmap(i*0.3) for i in range(3)]\n",
    "\n",
    "plt.axvline(GMKG_Length_stretched[24], color = 'black', linewidth = 0.8)\n",
    "plt.axvline(GMKG_Length_stretched[32], color = 'black', linewidth = 0.8)\n",
    "\n",
    "#plt.plot(GMKG_Length_stretched, First_band_max, c = 'lightgrey', lw = 0.8)\n",
    "#plt.plot(GMKG_Length_stretched, First_band_min, c = 'lightgrey', lw = 0.8)\n",
    "plt.fill_between(GMKG_Length_stretched, First_band_min, First_band_max, color = 'lightgrey')\n",
    "\n",
    "plt.plot(GMKG_Length_stretched, GMKG_Bands[:, 0], c = 'black', lw = 1)\n",
    "plt.plot(GMKG_Length_stretched[0:33], GMKG_Bands[0:33, 1], c = colors[0], lw = 1)\n",
    "plt.plot(GMKG_Length_stretched[0:33], GMKG_Bands[0:33, 2], c = colors[1], lw = 1)\n",
    "plt.plot(GMKG_Length_stretched[32:], GMKG_Bands[32:, 1], c = colors[1], lw = 1)\n",
    "plt.plot(GMKG_Length_stretched[32:], GMKG_Bands[32:, 2], c = colors[0], lw = 1)\n",
    "plt.plot(GMKG_Length_stretched, GMKG_Bands[:, 3], c = colors[2], lw = 1)\n",
    "\n",
    "plt.plot(GMKG_Length_stretched, GMKG_cosines, c = 'grey', lw = 1, linestyle = \"--\")\n",
    "\n",
    "plt.xlim(GMKG_Length_stretched[0], GMKG_Length_stretched[-1])\n",
    "\n",
    "plt.xticks([GMKG_Length_stretched[0], GMKG_Length_stretched[24], GMKG_Length_stretched[32], \n",
    "            GMKG_Length_stretched[40]], [r'$\\Gamma$', r'M', r'K' , r'$\\Gamma$'])\n",
    "plt.tick_params(top=False)\n",
    "\n",
    "plt.ylabel(r\"$\\varepsilon (\\boldsymbol{k})$ / K\")\n",
    "\n",
    "plt.savefig('../plots/band_structure.pdf', dpi=300, transparent=False, bbox_inches ='tight') \n",
    "#plt.savefig('BandStructure.svg', transparent=False) \n",
    "\n",
    "plt.show()"
   ]
  },
  {
   "cell_type": "code",
   "execution_count": null,
   "metadata": {},
   "outputs": [],
   "source": []
  }
 ],
 "metadata": {
  "kernelspec": {
   "display_name": "Python 3",
   "language": "python",
   "name": "python3"
  },
  "language_info": {
   "codemirror_mode": {
    "name": "ipython",
    "version": 3
   },
   "file_extension": ".py",
   "mimetype": "text/x-python",
   "name": "python",
   "nbconvert_exporter": "python",
   "pygments_lexer": "ipython3",
   "version": "3.7.6"
  }
 },
 "nbformat": 4,
 "nbformat_minor": 2
}
