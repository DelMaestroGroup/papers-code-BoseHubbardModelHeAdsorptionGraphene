{
 "cells": [
  {
   "cell_type": "code",
   "execution_count": 1,
   "metadata": {},
   "outputs": [],
   "source": [
    "import numpy as np\n",
    "import matplotlib.pyplot as plt\n",
    "from matplotlib import cm\n",
    "import matplotlib.gridspec as gridspec\n",
    "from matplotlib.ticker import (MultipleLocator, FormatStrFormatter,\n",
    "                               AutoMinorLocator)\n",
    "from scipy.interpolate import interp1d\n",
    "from scipy import interp, arange, array, exp\n",
    "from scipy.interpolate import InterpolatedUnivariateSpline\n",
    "%matplotlib inline\n",
    "import sys,os\n",
    "\n",
    "# plot style\n",
    "plot_style = {'notebook':'../include/notebook.mplstyle','aps':'../include/aps.mplstyle'}\n",
    "plt.style.reload_library()\n",
    "plt.style.use(plot_style['aps'])\n",
    "figsize = plt.rcParams['figure.figsize']\n",
    "plt.rcParams['text.latex.preamble'] = f'\\input{{{os.getcwd()}/../include/texheader}}'"
   ]
  },
  {
   "cell_type": "code",
   "execution_count": 2,
   "metadata": {},
   "outputs": [],
   "source": [
    "He_Graphene_dat = np.loadtxt(\"../data/he_potential.txt\")"
   ]
  },
  {
   "cell_type": "code",
   "execution_count": 3,
   "metadata": {},
   "outputs": [],
   "source": [
    "QMC_r = np.trim_zeros(He_Graphene_dat[:,0])\n",
    "szalewicz_V = np.trim_zeros(He_Graphene_dat[:,1])\n",
    "DFT_r = He_Graphene_dat[:,2]\n",
    "He_He_V_DFT = He_Graphene_dat[:,3]\n",
    "r_MP2 = np.trim_zeros(He_Graphene_dat[:,4])\n",
    "V_He_MP2 = He_Graphene_dat[:len(r_MP2),5]\n",
    "QMC_z = np.trim_zeros(He_Graphene_dat[:,6])\n",
    "QMC_V = He_Graphene_dat[:len(QMC_z),7]\n",
    "#QMC_z2 = np.trim_zeros(He_Graphene_V0[:,0])\n",
    "#QMC_V2 = He_Graphene_V0[1:,1]\n",
    "DFT_Z = np.trim_zeros(He_Graphene_dat[:,8])\n",
    "He_Graphene_DFT = He_Graphene_dat[:len(DFT_Z),9]\n",
    "z_MP2 = np.trim_zeros(He_Graphene_dat[:,10])\n",
    "V_G_MP2 = He_Graphene_dat[:len(z_MP2),11]\n"
   ]
  },
  {
   "cell_type": "code",
   "execution_count": 4,
   "metadata": {},
   "outputs": [],
   "source": [
    "z_MP2_no_repeat = np.concatenate((z_MP2[0:4] , z_MP2[6:11], z_MP2[12:18], z_MP2[20:]))\n",
    "V_G_MP2_no_repeat = np.concatenate((V_G_MP2[0:4] , V_G_MP2[6:11], V_G_MP2[12:18], V_G_MP2[20:]))\n",
    "s = InterpolatedUnivariateSpline(z_MP2_no_repeat, V_G_MP2_no_repeat, k=2)\n",
    "V_MP2_G_interp = s(DFT_Z)"
   ]
  },
  {
   "cell_type": "markdown",
   "metadata": {},
   "source": [
    "Plotting"
   ]
  },
  {
   "cell_type": "code",
   "execution_count": 19,
   "metadata": {
    "scrolled": false
   },
   "outputs": [
    {
     "data": {
      "image/png": "[encoded data removed]",
      "text/plain": [
       "<Figure size 245.081x302.937 with 2 Axes>"
      ]
     },
     "metadata": {
      "needs_background": "light"
     },
     "output_type": "display_data"
    }
   ],
   "source": [
    "colors = [\"#d43e4e\", \"#abdda4\", \"#3288bc\"]\n",
    "\n",
    "fig, ax = plt.subplots(2, 1, figsize = [3.4039, 2*2.10373]) \n",
    "ax[0].plot(QMC_r, szalewicz_V, color = colors[0])\n",
    "ax[0].plot(DFT_r, He_He_V_DFT, color = colors[2])\n",
    "ax[0].plot(r_MP2, V_He_MP2, label = 'MP2', color = colors[1], linewidth=1)\n",
    "ax[0].set_xlim(2.2, 3.9)\n",
    "ax[0].set_ylim(-50,99)\n",
    "#ax[0].set_title(\"He-He\")\n",
    "ax[0].set_xlabel(r'$r$/\\AA')\n",
    "ax[0].set_ylabel(r\"$\\mathcal{V}_{\\rm He-He}$/K\")\n",
    "ax[0].text(-0.2,0.98,'(a)', fontsize=7, ha='left',va='top',transform=ax[0].transAxes)\n",
    "ax[0].xaxis.set_major_locator(MultipleLocator(0.25))\n",
    "ax[0].yaxis.set_major_locator(MultipleLocator(25))\n",
    "#ax[0].tick_params(which='minor', direction=\"out\", top = False, bottom=True, left=False, right=True, labelleft = False,\n",
    "#                                   labelright = True, length=2.5)\n",
    "#ax[0].tick_params(which='major', direction=\"out\", top = False, bottom=True, left=True, right=False)\n",
    "\n",
    "\n",
    "ax[1].plot(QMC_z, QMC_V, label = 'empirical', color = colors[0])\n",
    "ax[1].plot(DFT_Z, He_Graphene_DFT, label = 'DFT', color = colors[2])\n",
    "#ax[1].plot(zz,V1, label = 'Graphite')\n",
    "ax[1].plot(DFT_Z, V_MP2_G_interp, color = colors[1], linewidth=1)\n",
    "#ax[1].plot(z_Graphite_Composite,V_Graphite_Composite, label = 'Graphite?', color = colors[2], linewidth=1)\n",
    "ax[1].set_xlim(2.01, 5.7)\n",
    "ax[1].set_ylim(-400,420)\n",
    "ax[1].set_xlabel(r'$z$/\\AA')\n",
    "ax[1].set_ylabel(r\"$\\mathcal{V}_{\\rm He-\\graphene}$/K\")\n",
    "ax[1].yaxis.set_label_position(\"left\")\n",
    "#ax[1].set_title(\"He-Graphene\")\n",
    "ax[1].text(-0.2,0.98,'(b)', fontsize=7, ha='left',va='top',transform=ax[1].transAxes)\n",
    "ax[1].xaxis.set_minor_locator(MultipleLocator(0.5))\n",
    "#ax[1].tick_params(which='minor', direction=\"out\", top = False, bottom=True, left=True, right=False, labelleft = True,\n",
    "#                                   labelright = False, length=2.5)\n",
    "#ax[1].tick_params(which='major', direction=\"out\", top = False, bottom=True, left=True, right=False, labelleft = True,\n",
    "#                                   labelright = False, length=4)\n",
    "\n",
    "#fig.subplots_adjust(wspace=0.03, top=0.7)\n",
    "fig.subplots_adjust(right = 0.88, hspace=0.3)\n",
    "#fig.tight_layout()\n",
    "\n",
    "handles2, labels2 = ax[0].get_legend_handles_labels()\n",
    "handles, labels = ax[1].get_legend_handles_labels()\n",
    "handles.extend(handles2)\n",
    "labels.extend(labels2)\n",
    "fig.legend(handles, labels, bbox_to_anchor=(0.92,0.83), frameon = False, handlelength = 1)\n",
    "#fig.legend(handles, labels, loc='upper center', frameon = True, ncol=3, handlelength = 1)\n",
    "\n",
    "\n",
    "#plt.legend()\n",
    "#plt.show()\n",
    "\n",
    "plt.savefig('../plots/He_Graphene_Potential.pdf', dpi=300, transparent=False, bbox_inches ='tight') "
   ]
  },
  {
   "cell_type": "code",
   "execution_count": null,
   "metadata": {},
   "outputs": [],
   "source": []
  }
 ],
 "metadata": {
  "kernelspec": {
   "display_name": "Python 3",
   "language": "python",
   "name": "python3"
  },
  "language_info": {
   "codemirror_mode": {
    "name": "ipython",
    "version": 3
   },
   "file_extension": ".py",
   "mimetype": "text/x-python",
   "name": "python",
   "nbconvert_exporter": "python",
   "pygments_lexer": "ipython3",
   "version": "3.7.6"
  }
 },
 "nbformat": 4,
 "nbformat_minor": 2
}
