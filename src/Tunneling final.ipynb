{
 "cells": [
  {
   "cell_type": "code",
   "execution_count": 1,
   "metadata": {},
   "outputs": [],
   "source": [
    "import numpy as np\n",
    "import matplotlib.pyplot as plt\n",
    "#from graphenetools import GrapheneTools as gt\n",
    "#plt.style.use('./aps.mplstyle')\n",
    "import re,glob,os\n",
    "import math\n",
    "from scipy.signal import argrelextrema\n",
    "#import colors as colortools\n",
    "#from collections import defaultdict\n",
    "\n",
    "from scipy import interpolate\n",
    "\n",
    "from matplotlib import rcParams\n",
    "\n",
    "import sys,os\n",
    "\n",
    "# plot style\n",
    "plot_style = {'notebook':'../include/notebook.mplstyle','aps':'../include/aps.mplstyle'}\n",
    "plt.style.reload_library()\n",
    "plt.style.use(plot_style['aps'])\n",
    "figsize = plt.rcParams['figure.figsize']\n",
    "plt.rcParams['text.latex.preamble'] = f'\\input{{{os.getcwd()}/../include/texheader}}'\n",
    "\n",
    "#colors = plt.rcParams['axes.prop_cycle'].by_key()['color']\n",
    "\n",
    "\n",
    "#%matplotlib inline\n",
    "#%config InlineBackend.figure_format = 'retina'\n",
    "#plt.style.reload_library()\n",
    "#try: \n",
    "#    plt.style.use('notebook')\n",
    "#except:\n",
    "#    pass"
   ]
  },
  {
   "cell_type": "code",
   "execution_count": 2,
   "metadata": {},
   "outputs": [],
   "source": [
    "mass=4.002602\n",
    "unit1=1.380649*10**(-23)\n",
    "unit2=10**(-10)\n",
    "unit3=1.660540*10**(-27)\n",
    "hbar=1.0545718*10**(-34)"
   ]
  },
  {
   "cell_type": "markdown",
   "metadata": {},
   "source": [
    "****DFT"
   ]
  },
  {
   "cell_type": "code",
   "execution_count": 3,
   "metadata": {},
   "outputs": [],
   "source": [
    "x,V = np.loadtxt('../data/graphene_tunneling.txt',unpack=True)\n",
    "δx = x[1]-x[0]\n",
    "x -= x[0]\n",
    "V -= V[0]\n",
    "xmin = -x[::-1]\n",
    "xmin = np.concatenate((xmin,x[1:]))\n",
    "Vmin = np.concatenate((V,V[1:]))\n",
    "\n",
    "Vinterp = interpolate.interp1d(xmin,Vmin,kind='cubic')"
   ]
  },
  {
   "cell_type": "code",
   "execution_count": 4,
   "metadata": {},
   "outputs": [],
   "source": [
    "from scipy.optimize import curve_fit\n",
    "def func(x,k):\n",
    "    return 0.5*x*x*k"
   ]
  },
  {
   "cell_type": "code",
   "execution_count": 5,
   "metadata": {},
   "outputs": [
    {
     "name": "stdout",
     "output_type": "stream",
     "text": [
      "[-0.5125 -0.41   -0.3075 -0.205  -0.1025 -0.      0.1025  0.205   0.3075\n",
      "  0.41    0.5125]\n"
     ]
    }
   ],
   "source": [
    "idx = np.where(np.abs(xmin) < 0.529)[0]\n",
    "\n",
    "print(xmin[idx])"
   ]
  },
  {
   "cell_type": "code",
   "execution_count": 6,
   "metadata": {},
   "outputs": [
    {
     "name": "stdout",
     "output_type": "stream",
     "text": [
      "126.21871987158951\n"
     ]
    }
   ],
   "source": [
    "popt,pcov = curve_fit(func,xmin[idx],Vmin[idx])\n",
    "\n",
    "print(popt[0])"
   ]
  },
  {
   "cell_type": "code",
   "execution_count": 7,
   "metadata": {
    "scrolled": true
   },
   "outputs": [
    {
     "data": {
      "text/plain": [
       "(0.0, 40.0)"
      ]
     },
     "execution_count": 7,
     "metadata": {},
     "output_type": "execute_result"
    },
    {
     "data": {
      "image/png": "[encoded data removed]",
      "text/plain": [
       "<Figure size 245.081x151.469 with 1 Axes>"
      ]
     },
     "metadata": {
      "needs_background": "light"
     },
     "output_type": "display_data"
    }
   ],
   "source": [
    "x = np.linspace(-1,1,100)\n",
    "x_interp = np.linspace(xmin[0],xmin[-1],1000)\n",
    "\n",
    "plt.plot(xmin,Vmin,'o', ms=3)\n",
    "plt.plot(x_interp,Vinterp(x_interp))\n",
    "plt.plot(x,func(x,*popt),'-')\n",
    "plt.ylim(0,40)"
   ]
  },
  {
   "cell_type": "code",
   "execution_count": 8,
   "metadata": {},
   "outputs": [
    {
     "name": "stdout",
     "output_type": "stream",
     "text": [
      "126.21871987158951 19.555572180382732\n"
     ]
    }
   ],
   "source": [
    "omega_i=(unit1/unit2/unit2/unit3*popt[0]/mass)**(0.5)\n",
    "e_0i=hbar/2.0/unit1*omega_i\n",
    "print(popt[0],e_0i)"
   ]
  },
  {
   "cell_type": "markdown",
   "metadata": {},
   "source": [
    "****MP2"
   ]
  },
  {
   "cell_type": "code",
   "execution_count": 9,
   "metadata": {},
   "outputs": [],
   "source": [
    "x2,V2 = np.loadtxt('../data/graphene_tunneling_second.txt',unpack=True)\n",
    "δx2 = x2[1]-x2[0]\n",
    "x2 -= x2[0]\n",
    "V2 -= V2[0]\n",
    "xmin2 = -x2[::-1]\n",
    "xmin2 = np.concatenate((xmin2,x2[1:]))\n",
    "Vmin2 = np.concatenate((V2,V2[1:]))\n",
    "\n",
    "Vinterp2 = interpolate.interp1d(xmin2,Vmin2,kind='cubic')"
   ]
  },
  {
   "cell_type": "code",
   "execution_count": 10,
   "metadata": {},
   "outputs": [
    {
     "name": "stdout",
     "output_type": "stream",
     "text": [
      "[-0.4919  -0.36893 -0.24595 -0.12298 -0.       0.12298  0.24595  0.36893\n",
      "  0.4919 ]\n"
     ]
    }
   ],
   "source": [
    "idx2 = np.where(np.abs(xmin2) < 0.529)[0]\n",
    "\n",
    "print(xmin2[idx2])"
   ]
  },
  {
   "cell_type": "code",
   "execution_count": 11,
   "metadata": {},
   "outputs": [
    {
     "name": "stdout",
     "output_type": "stream",
     "text": [
      "245.68540539333216\n"
     ]
    }
   ],
   "source": [
    "popt2,pcov2 = curve_fit(func,xmin2[idx2],Vmin2[idx2])\n",
    "\n",
    "print(popt2[0])"
   ]
  },
  {
   "cell_type": "code",
   "execution_count": 12,
   "metadata": {},
   "outputs": [
    {
     "data": {
      "text/plain": [
       "(0.0, 80.0)"
      ]
     },
     "execution_count": 12,
     "metadata": {},
     "output_type": "execute_result"
    },
    {
     "data": {
      "image/png": "[encoded data removed]",
      "text/plain": [
       "<Figure size 245.081x151.469 with 1 Axes>"
      ]
     },
     "metadata": {
      "needs_background": "light"
     },
     "output_type": "display_data"
    }
   ],
   "source": [
    "x2 = np.linspace(-1,1,100)\n",
    "x_interp2 = np.linspace(xmin2[0],xmin2[-1],1000)\n",
    "\n",
    "plt.plot(xmin2,Vmin2,'o', ms=3)\n",
    "plt.plot(x_interp2,Vinterp2(x_interp2))\n",
    "plt.plot(x2,func(x2,*popt2),'-')\n",
    "plt.ylim(0,80)"
   ]
  },
  {
   "cell_type": "code",
   "execution_count": 13,
   "metadata": {},
   "outputs": [
    {
     "name": "stdout",
     "output_type": "stream",
     "text": [
      "245.68540539333216 27.283389386482632\n"
     ]
    }
   ],
   "source": [
    "omega_i2=(unit1/unit2/unit2/unit3*popt2[0]/mass)**(0.5)\n",
    "e_0i2=hbar/2.0/unit1*omega_i2\n",
    "print(popt2[0],e_0i2)"
   ]
  },
  {
   "cell_type": "markdown",
   "metadata": {},
   "source": [
    "****QMC"
   ]
  },
  {
   "cell_type": "code",
   "execution_count": 14,
   "metadata": {},
   "outputs": [],
   "source": [
    "V3 = np.loadtxt('../data/QMC_V_data.txt',unpack=True)\n",
    "\n",
    "#V3 -= V3[0]\n",
    "x3 = np.linspace(0, 1.2, 51)\n",
    "\n",
    "xmin3 = np.linspace(-2.45, 2.45, 102)\n",
    "Vmin3 = np.concatenate((V3[26:],V3,V3[:26]))\n",
    "\n",
    "Vmin3 -= Vmin3[0]\n",
    "Vinterp3 = interpolate.interp1d(xmin3,Vmin3,kind='cubic')"
   ]
  },
  {
   "cell_type": "code",
   "execution_count": 15,
   "metadata": {},
   "outputs": [
    {
     "data": {
      "text/plain": [
       "[<matplotlib.lines.Line2D at 0x7f00659798e0>]"
      ]
     },
     "execution_count": 15,
     "metadata": {},
     "output_type": "execute_result"
    },
    {
     "data": {
      "image/png": "[encoded data removed]",
      "text/plain": [
       "<Figure size 245.081x151.469 with 1 Axes>"
      ]
     },
     "metadata": {
      "needs_background": "light"
     },
     "output_type": "display_data"
    }
   ],
   "source": [
    "plt.plot(xmin3,Vmin3,'o', ms=3)"
   ]
  },
  {
   "cell_type": "code",
   "execution_count": 16,
   "metadata": {},
   "outputs": [
    {
     "name": "stdout",
     "output_type": "stream",
     "text": [
      "[-0.50940594 -0.46089109 -0.41237624 -0.36386139 -0.31534653 -0.26683168\n",
      " -0.21831683 -0.16980198 -0.12128713 -0.07277228 -0.02425743  0.02425743\n",
      "  0.07277228  0.12128713  0.16980198  0.21831683  0.26683168  0.31534653\n",
      "  0.36386139  0.41237624  0.46089109  0.50940594]\n"
     ]
    }
   ],
   "source": [
    "idx3 = np.where(np.abs(xmin3) < 0.529)[0]\n",
    "\n",
    "print(xmin3[idx3])"
   ]
  },
  {
   "cell_type": "code",
   "execution_count": 17,
   "metadata": {},
   "outputs": [
    {
     "name": "stdout",
     "output_type": "stream",
     "text": [
      "75.55710253536324\n"
     ]
    }
   ],
   "source": [
    "popt3,pcov3 = curve_fit(func,xmin3[idx3],Vmin3[idx3])\n",
    "\n",
    "print(popt3[0])"
   ]
  },
  {
   "cell_type": "code",
   "execution_count": 18,
   "metadata": {},
   "outputs": [
    {
     "data": {
      "text/plain": [
       "(0.0, 30.0)"
      ]
     },
     "execution_count": 18,
     "metadata": {},
     "output_type": "execute_result"
    },
    {
     "data": {
      "image/png": "[encoded data removed]",
      "text/plain": [
       "<Figure size 245.081x151.469 with 1 Axes>"
      ]
     },
     "metadata": {
      "needs_background": "light"
     },
     "output_type": "display_data"
    }
   ],
   "source": [
    "x3 = np.linspace(-1,1,100)\n",
    "x_interp3 = np.linspace(xmin3[0],xmin3[-1],1000)\n",
    "\n",
    "plt.plot(xmin3,Vmin3,'o', ms=3)\n",
    "plt.plot(x_interp3,Vinterp3(x_interp3))\n",
    "plt.plot(x3,func(x3,*popt3),'-')\n",
    "plt.ylim(0,30)"
   ]
  },
  {
   "cell_type": "code",
   "execution_count": 19,
   "metadata": {},
   "outputs": [
    {
     "name": "stdout",
     "output_type": "stream",
     "text": [
      "75.55710253536324 15.13025646598024\n"
     ]
    }
   ],
   "source": [
    "omega_i3=(unit1/unit2/unit2/unit3*popt3[0]/mass)**(0.5)\n",
    "e_0i3=hbar/2.0/unit1*omega_i3\n",
    "print(popt3[0],e_0i3)"
   ]
  },
  {
   "cell_type": "code",
   "execution_count": 20,
   "metadata": {},
   "outputs": [],
   "source": [
    "from scipy.signal import argrelextrema\n",
    "loc_max = argrelextrema(Vinterp(x_interp), np.greater)\n",
    "loc_min = argrelextrema(Vinterp(x_interp), np.less)"
   ]
  },
  {
   "cell_type": "code",
   "execution_count": 21,
   "metadata": {},
   "outputs": [],
   "source": [
    "loc_max2 = argrelextrema(Vinterp2(x_interp2), np.greater)\n",
    "loc_min2 = argrelextrema(Vinterp2(x_interp2), np.less)"
   ]
  },
  {
   "cell_type": "code",
   "execution_count": 22,
   "metadata": {},
   "outputs": [],
   "source": [
    "loc_max3 = argrelextrema(Vinterp3(x_interp3), np.greater)\n",
    "loc_min3 = argrelextrema(Vinterp3(x_interp3), np.less)"
   ]
  },
  {
   "cell_type": "code",
   "execution_count": 23,
   "metadata": {},
   "outputs": [
    {
     "name": "stdout",
     "output_type": "stream",
     "text": [
      "(array([250, 749]),)\n",
      "[-2.45507508  0.00246246  2.45507508]\n",
      "[-1.22876877  1.22876877]\n",
      "(array([248, 747]),)\n",
      "[-0.00246246  2.45507508]\n",
      "[-1.23861862  1.21891892]\n",
      "(array([241, 745]),)\n",
      "[-0.01723724]\n",
      "[-1.27309309  1.20906907]\n"
     ]
    }
   ],
   "source": [
    "print(loc_max)\n",
    "print(x_interp[loc_min])\n",
    "print(x_interp[loc_max])\n",
    "print(loc_max2)\n",
    "print(x_interp[loc_min2])\n",
    "print(x_interp[loc_max2])\n",
    "print(loc_max3)\n",
    "print(x_interp[loc_min3])\n",
    "print(x_interp[loc_max3])"
   ]
  },
  {
   "cell_type": "code",
   "execution_count": 24,
   "metadata": {},
   "outputs": [],
   "source": [
    "def find_nearest(array, value):\n",
    "    array = np.asarray(array)\n",
    "    idx = (np.abs(array - value)).argmin()\n",
    "    return idx"
   ]
  },
  {
   "cell_type": "code",
   "execution_count": 25,
   "metadata": {},
   "outputs": [],
   "source": [
    "locidx=list(range(loc_min[0][1], loc_max[0][1]))\n",
    "Vint_cut=Vinterp(x_interp)[locidx]\n",
    "locidx2=list(range(loc_min2[0][0], loc_max2[0][1]))\n",
    "Vint_cut2=Vinterp2(x_interp2)[locidx2]\n",
    "locidx3=list(range(loc_min3[0][0], loc_max3[0][1]))\n",
    "Vint_cut3=Vinterp3(x_interp3)[locidx3]"
   ]
  },
  {
   "cell_type": "code",
   "execution_count": 26,
   "metadata": {},
   "outputs": [
    {
     "name": "stdout",
     "output_type": "stream",
     "text": [
      "120\n",
      "96\n",
      "149\n"
     ]
    }
   ],
   "source": [
    "print(find_nearest(Vint_cut, e_0i))\n",
    "print(find_nearest(Vint_cut2, e_0i2))\n",
    "print(find_nearest(Vint_cut3, e_0i3))"
   ]
  },
  {
   "cell_type": "code",
   "execution_count": 27,
   "metadata": {},
   "outputs": [
    {
     "name": "stdout",
     "output_type": "stream",
     "text": [
      "620\n",
      "595\n",
      "645\n"
     ]
    }
   ],
   "source": [
    "refp=locidx[find_nearest(Vint_cut, e_0i)]\n",
    "print(refp)\n",
    "refp2=locidx2[find_nearest(Vint_cut2, e_0i2)]\n",
    "print(refp2)\n",
    "refp3=locidx3[find_nearest(Vint_cut3, e_0i3)]\n",
    "print(refp3)"
   ]
  },
  {
   "cell_type": "code",
   "execution_count": 28,
   "metadata": {},
   "outputs": [
    {
     "name": "stdout",
     "output_type": "stream",
     "text": [
      "0.5934534534534532 19.614697965266146\n",
      "0.47023664664664677 27.2952258723386\n",
      "0.7136636636636635 15.098549065065425\n"
     ]
    }
   ],
   "source": [
    "xcross=x_interp[refp]\n",
    "Vcross=Vinterp(x_interp)[refp]\n",
    "print(xcross,Vcross)\n",
    "xcross2=x_interp2[refp2]\n",
    "Vcross2=Vinterp2(x_interp2)[refp2]\n",
    "print(xcross2,Vcross2)\n",
    "xcross3=x_interp3[refp3]\n",
    "Vcross3=Vinterp3(x_interp3)[refp3]\n",
    "print(xcross3,Vcross3)"
   ]
  },
  {
   "cell_type": "code",
   "execution_count": 29,
   "metadata": {},
   "outputs": [],
   "source": [
    "integralidx=list(range(refp, loc_max[0][1]))\n",
    "Vintval=Vinterp(x_interp)[integralidx]\n",
    "integralidx2=list(range(refp2, loc_max2[0][1]))\n",
    "Vintval2=Vinterp2(x_interp2)[integralidx2]\n",
    "integralidx3=list(range(refp3, loc_max3[0][1]))\n",
    "Vintval3=Vinterp3(x_interp3)[integralidx3]"
   ]
  },
  {
   "cell_type": "code",
   "execution_count": 30,
   "metadata": {},
   "outputs": [
    {
     "name": "stdout",
     "output_type": "stream",
     "text": [
      "129 & 0.0\n",
      "152 & 0.0\n",
      "100 & 0.0\n"
     ]
    }
   ],
   "source": [
    "Vintval_o = [x - Vcross for x in Vintval]\n",
    "print(len(Vintval_o),'&',Vintval_o[0])\n",
    "Vintval_o2 = [x2 - Vcross2 for x2 in Vintval2]\n",
    "print(len(Vintval_o2),'&',Vintval_o2[0])\n",
    "Vintval_o3 = [x3 - Vcross3 for x3 in Vintval3]\n",
    "print(len(Vintval_o3),'&',Vintval_o3[0])"
   ]
  },
  {
   "cell_type": "code",
   "execution_count": 31,
   "metadata": {},
   "outputs": [],
   "source": [
    "Vintg = [x**(0.5) for x in Vintval_o]\n",
    "Vintg2 = [x2**(0.5) for x2 in Vintval_o2]\n",
    "Vintg3 = [x3**(0.5) for x3 in Vintval_o3]"
   ]
  },
  {
   "cell_type": "code",
   "execution_count": 32,
   "metadata": {},
   "outputs": [
    {
     "name": "stdout",
     "output_type": "stream",
     "text": [
      "1.9772129452556568\n",
      "3.6861764973906386\n",
      "0.9513347020015751\n"
     ]
    }
   ],
   "source": [
    "from scipy.integrate import simps\n",
    "eval1 = simps(Vintg, x_interp[integralidx])\n",
    "print(eval1)\n",
    "eval2 = simps(Vintg2, x_interp2[integralidx2])\n",
    "print(eval2)\n",
    "eval3 = simps(Vintg3, x_interp3[integralidx3])\n",
    "print(eval3)"
   ]
  },
  {
   "cell_type": "code",
   "execution_count": 33,
   "metadata": {},
   "outputs": [
    {
     "name": "stdout",
     "output_type": "stream",
     "text": [
      "0.04024195511665812\n",
      "0.0025041594523868504\n",
      "0.21312885792335579\n"
     ]
    }
   ],
   "source": [
    "D=math.exp(-4*eval1/hbar*unit2*(2*mass*unit3*unit1)**(0.5))\n",
    "print(D)\n",
    "D2=math.exp(-4*eval2/hbar*unit2*(2*mass*unit3*unit1)**(0.5))\n",
    "print(D2)\n",
    "D3=math.exp(-4*eval3/hbar*unit2*(2*mass*unit3*unit1)**(0.5))\n",
    "print(D3)"
   ]
  },
  {
   "cell_type": "code",
   "execution_count": 34,
   "metadata": {},
   "outputs": [
    {
     "name": "stdout",
     "output_type": "stream",
     "text": [
      "1.2487059786150714\n",
      "0.43458970904972033\n",
      "2.2233997156431182\n"
     ]
    }
   ],
   "source": [
    "t=2*hbar/unit1*omega_i/(math.pi)*((D)**(0.5))/4;\n",
    "print(t)\n",
    "t2=2*hbar/unit1*omega_i2/(math.pi)*((D2)**(0.5))/4;\n",
    "print(t2)\n",
    "t3=2*hbar/unit1*omega_i3/(math.pi)*((D3)**(0.5))/4;\n",
    "print(t3)"
   ]
  },
  {
   "cell_type": "code",
   "execution_count": 35,
   "metadata": {},
   "outputs": [
    {
     "data": {
      "text/plain": [
       "41"
      ]
     },
     "execution_count": 35,
     "metadata": {},
     "output_type": "execute_result"
    }
   ],
   "source": [
    "len(xmin2)"
   ]
  },
  {
   "cell_type": "code",
   "execution_count": 38,
   "metadata": {},
   "outputs": [
    {
     "data": {
      "image/png": "[encoded data removed]",
      "text/plain": [
       "<Figure size 230.4x172.8 with 1 Axes>"
      ]
     },
     "metadata": {
      "needs_background": "light"
     },
     "output_type": "display_data"
    }
   ],
   "source": [
    "plt.figure(figsize=(3.2, 2.4))\n",
    "\n",
    "#plt.plot(xmin[::2],Vmin[::2],'co', ms=2)\n",
    "#plt.plot(xmin2,Vmin2,'ro', ms=2)\n",
    "#plt.plot(xmin3[::4],Vmin3[::4],'mo', ms=2)\n",
    "\n",
    "colors = [\"#d43e4e\", \"#abdda4\", \"#3288bc\"]\n",
    "\n",
    "plt.plot(x_interp2,Vinterp2(x_interp2), color = colors[1], label='MP2',linewidth=1)\n",
    "plt.plot(x_interp,Vinterp(x_interp), color = colors[2], label='DFT',linewidth=1)\n",
    "plt.plot(x_interp3,Vinterp3(x_interp3), color = colors[0] ,label='QMC',linewidth=1)\n",
    "\n",
    "\n",
    "#handles, labels = ax.get_legend_handles_labels()\n",
    "#plt.legend(handlelength=1.5,loc='upper right',fontsize = 'small')\n",
    "plt.legend(handlelength=1.5,loc='best',fontsize = 'small')\n",
    "\n",
    "#plt.hlines(e_0i,x_interp[0],x_interp[-1],colors='c', linestyles='dashed')\n",
    "#plt.hlines(e_0i2,x_interp[0],x_interp[-1],colors='r', linestyles='dashed')\n",
    "#plt.hlines(e_0i3,x_interp[0],x_interp[-1],colors='m', linestyles='dashed')\n",
    "plt.axhline(y=e_0i2, color= colors[1], linestyle='--', lw='0.7')\n",
    "plt.axhline(y=e_0i, color = colors[2], linestyle='--', lw='0.7')\n",
    "plt.axhline(y=e_0i3, color = colors[0], linestyle='--', lw='0.7')\n",
    "\n",
    "#plt.axvspan(xcross, x_interp[loc_max[0][1]], alpha=0.5, color='darkgray')\n",
    "#plt.axvspan(xcross2, x_interp2[loc_max2[0][1]], alpha=0.5, color='darkgray')\n",
    "#plt.axvspan(xcross3, x_interp3[loc_max3[0][1]], alpha=0.5, color='darkgray')\n",
    "#plt.xlabel(r'$x$(\\AA)',fontsize = 'medium')\n",
    "plt.xlabel(r'$\\alabel{x}{\\angstrom}$')\n",
    "plt.ylabel(r'$\\alabel{\\mathcal{V}_{\\rm He-\\graphene}}{\\kelvin}$')\n",
    "#plt.ylabel(r'$\\mathcal{V}_{He-\\graphene} \\,/\\, \\si{\\kelvin}$',fontsize = 'medium')\n",
    "plt.ylim(0,75)\n",
    "\n",
    "plt.savefig('full_figure.png',transparent=False,bbox_inches = \"tight\")\n",
    "plt.savefig('full_figure.pdf',transparent=False,bbox_inches = \"tight\")"
   ]
  },
  {
   "cell_type": "code",
   "execution_count": 77,
   "metadata": {},
   "outputs": [
    {
     "name": "stdout",
     "output_type": "stream",
     "text": [
      "0.025 0.009 0.044\n"
     ]
    }
   ],
   "source": [
    "# V approximation\n",
    "V_DFT = 40\n",
    "V_MC = 50\n",
    "V_HF = 60\n",
    "\n",
    "# t/V\n",
    "ratio = t/50;\n",
    "ratio2 = t2/50;\n",
    "ratio3 = t3/50;"
   ]
  },
  {
   "cell_type": "code",
   "execution_count": 79,
   "metadata": {},
   "outputs": [
    {
     "name": "stdout",
     "output_type": "stream",
     "text": [
      "1.25 0.43 2.22\n",
      "0.025 0.009 0.044\n"
     ]
    }
   ],
   "source": [
    "print(str(round(t, 2)),str(round(t2, 2)),str(round(t3, 2)))\n",
    "print(str(round(ratio, 3)),str(round(ratio2, 3)),str(round(ratio3, 3)))"
   ]
  },
  {
   "cell_type": "code",
   "execution_count": null,
   "metadata": {},
   "outputs": [],
   "source": []
  }
 ],
 "metadata": {
  "kernelspec": {
   "display_name": "Python 3",
   "language": "python",
   "name": "python3"
  },
  "language_info": {
   "codemirror_mode": {
    "name": "ipython",
    "version": 3
   },
   "file_extension": ".py",
   "mimetype": "text/x-python",
   "name": "python",
   "nbconvert_exporter": "python",
   "pygments_lexer": "ipython3",
   "version": "3.8.5"
  }
 },
 "nbformat": 4,
 "nbformat_minor": 4
}
