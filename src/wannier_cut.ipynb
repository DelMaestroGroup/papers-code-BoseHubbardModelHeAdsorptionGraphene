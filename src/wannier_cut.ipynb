{
 "cells": [
  {
   "cell_type": "markdown",
   "metadata": {},
   "source": [
    "# Wavefunction Cuts"
   ]
  },
  {
   "cell_type": "code",
   "execution_count": 1,
   "metadata": {},
   "outputs": [],
   "source": [
    "import numpy as np\n",
    "import matplotlib.pyplot as plt\n",
    "import pickle\n",
    "from matplotlib import cm\n",
    "import matplotlib.gridspec as gridspec\n",
    "from scipy import interpolate\n",
    "import sys,os\n",
    "#%matplotlib inline\n",
    "\n",
    "# plot style\n",
    "plot_style = {'notebook':'../include/notebook.mplstyle','aps':'../include/aps.mplstyle'}\n",
    "plt.style.reload_library()\n",
    "plt.style.use(plot_style['aps'])\n",
    "figsize = plt.rcParams['figure.figsize']\n",
    "plt.rcParams['text.latex.preamble'] = f'\\input{{{os.getcwd()}/../include/texheader}}'"
   ]
  },
  {
   "cell_type": "markdown",
   "metadata": {},
   "source": [
    "load Data"
   ]
  },
  {
   "cell_type": "code",
   "execution_count": 2,
   "metadata": {},
   "outputs": [],
   "source": [
    "Wannier_Cut_dat = np.loadtxt(\"../data/wannier_cut.txt\")"
   ]
  },
  {
   "cell_type": "code",
   "execution_count": 3,
   "metadata": {},
   "outputs": [],
   "source": [
    "wannier_x = Wannier_Cut_dat[:,0]\n",
    "wannier_dens = Wannier_Cut_dat[:,1]\n",
    "extended_pimc_x = np.trim_zeros(Wannier_Cut_dat[:,2])\n",
    "pimc_bin = Wannier_Cut_dat[:205,3]\n",
    "hartree_fock_x = Wannier_Cut_dat[:,4]\n",
    "hartree_fock_dens = Wannier_Cut_dat[:,5]\n",
    "hartree_x = Wannier_Cut_dat[:,6]\n",
    "hartree_dens = Wannier_Cut_dat[:,7]\n",
    "pimc_x = Wannier_Cut_dat[:,8]\n",
    "pimc_1_ave = Wannier_Cut_dat[:,9]"
   ]
  },
  {
   "cell_type": "code",
   "execution_count": 7,
   "metadata": {},
   "outputs": [
    {
     "name": "stderr",
     "output_type": "stream",
     "text": [
      "<ipython-input-7-d60f34c93e92>:20: UserWarning: FixedFormatter should only be used together with FixedLocator\n",
      "  ax[0].set_xticklabels(['']*6)\n"
     ]
    },
    {
     "data": {
      "image/png": "[encoded data removed]",
      "text/plain": [
       "<Figure size 245.081x302.937 with 2 Axes>"
      ]
     },
     "metadata": {
      "needs_background": "light"
     },
     "output_type": "display_data"
    }
   ],
   "source": [
    "colors = [\"#d43e4e\", \"#abdda4\", \"#3288bc\"]\n",
    "\n",
    "cmap = plt.cm.get_cmap('viridis')\n",
    "\n",
    "colors2 = [cmap(i*0.3) for i in range(4)]\n",
    "\n",
    "fig, ax = plt.subplots(2, 1, figsize = [3.4039, 2*2.10373]) \n",
    "ax[0].semilogy(extended_pimc_x, pimc_bin, label = \"QMC\", color = colors[0], linewidth=1)\n",
    "ax[0].semilogy(wannier_x, wannier_dens, label = \"Wannier\", color = colors2[3])\n",
    "#ax[0].semilogy(pimc_x, pimc_0_ave, color = colors[2])\n",
    "ax[0].set_xlim(-5.9, 5.9)\n",
    "ax[0].set_ylim(1e-7, 10e-1)\n",
    "#ax[0].set_title(\"Free Particle\")\n",
    "#ax[0].set_xlabel(r'$a_1$(\\AA)')\n",
    "ax[0].set_ylabel(r'$\\alabel{\\rho(x,0)}{\\angstrom^{-2}}$')\n",
    "#ax[0].tick_params(direction=\"out\", top = False, bottom=True, left=True, right=False)\n",
    "ax[0].text(-5,0.1,r\"$f = 1/ \\rm{N_\\graphene}$\")\n",
    "ax[0].text(0.01,0.98,'(a)', fontsize=7, ha='left',va='top',transform=ax[0].transAxes)\n",
    "ax[0].legend(loc='upper right', handlelength = 1.5)\n",
    "ax[0].set_xticklabels(['']*6)\n",
    "\n",
    "#ax[1].set_yticks([])\n",
    "ax[1].semilogy(pimc_x, pimc_1_ave, color = colors[0], label = \"QMC\", linewidth=1)\n",
    "ax[1].semilogy(hartree_fock_x, hartree_fock_dens, label = \"Hartree-Fock\", color = colors2[1])\n",
    "ax[1].semilogy(hartree_x, hartree_dens, label = \"Hartree\", linestyle = '--', color = colors2[2])\n",
    "ax[1].set_xlim(-5.9, 5.9)\n",
    "ax[1].set_ylim(10e-24, 10e2)\n",
    "#ax[1].yaxis.set_label_position(\"left\")\n",
    "#ax[1].set_title(\"Unit Filling\")\n",
    "ax[1].set_xlabel(r'$\\alabel{x}{\\angstrom}$')\n",
    "ax[1].set_ylabel(r'$\\alabel{\\rho(x,0)/N}{\\angstrom^{-2}}$')\n",
    "#ax[1].tick_params(direction=\"out\", top = False, bottom=True, left=True, right=False, labelleft = True, \n",
    "#                  labelright = False)\n",
    "ax[1].text(-5,0.01,r\"$f = 1$\")\n",
    "ax[1].text(0.01,0.98,'(b)', fontsize=7, ha='left',va='top',transform=ax[1].transAxes)\n",
    "ax[1].legend(loc='upper right', handlelength = 1.5)\n",
    "\n",
    "fig.subplots_adjust(hspace=0.05)\n",
    "\n",
    "#handles, labels = ax[0].get_legend_handles_labels()\n",
    "#handles2, labels2 = ax[1].get_legend_handles_labels()\n",
    "#handles.extend(handles2)\n",
    "#labels.extend(labels2)\n",
    "#fig.legend(handles, labels, loc='upper center', frameon = True, ncol=3, handlelength = 1.5)\n",
    "\n",
    "\n",
    "#plt.legend()\n",
    "#plt.show()\n",
    "\n",
    "plt.savefig('../plots/wannier_cut.pdf', dpi=300, transparent=False, bbox_inches ='tight') \n",
    "plt.savefig('../plots/wannier_cut.svg', bbox_inches ='tight') "
   ]
  },
  {
   "cell_type": "code",
   "execution_count": null,
   "metadata": {},
   "outputs": [],
   "source": []
  }
 ],
 "metadata": {
  "kernelspec": {
   "display_name": "Python 3 (ipykernel)",
   "language": "python",
   "name": "python3"
  },
  "language_info": {
   "codemirror_mode": {
    "name": "ipython",
    "version": 3
   },
   "file_extension": ".py",
   "mimetype": "text/x-python",
   "name": "python",
   "nbconvert_exporter": "python",
   "pygments_lexer": "ipython3",
   "version": "3.9.4"
  }
 },
 "nbformat": 4,
 "nbformat_minor": 4
}
