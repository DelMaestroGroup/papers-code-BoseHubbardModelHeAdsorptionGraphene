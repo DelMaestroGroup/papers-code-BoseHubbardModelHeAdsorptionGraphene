{
 "cells": [
  {
   "cell_type": "code",
   "execution_count": 1,
   "metadata": {},
   "outputs": [],
   "source": [
    "import numpy as np\n",
    "import matplotlib.pyplot as plt\n",
    "import pickle\n",
    "import re,glob,os\n",
    "\n",
    "#%matplotlib inline\n",
    "\n",
    "# plot style\n",
    "plot_style = {'notebook':'../include/notebook.mplstyle','aps':'../include/aps.mplstyle'}\n",
    "plt.style.reload_library()\n",
    "plt.style.use(plot_style['aps'])\n",
    "figsize = plt.rcParams['figure.figsize']\n",
    "plt.rcParams['text.latex.preamble'] = f'\\input{{{os.getcwd()}/../include/texheader}}'"
   ]
  },
  {
   "cell_type": "markdown",
   "metadata": {},
   "source": [
    "load data"
   ]
  },
  {
   "cell_type": "code",
   "execution_count": 2,
   "metadata": {},
   "outputs": [],
   "source": [
    "shooting_method_data = np.loadtxt('../data/shooting_method_rho.txt')\n",
    "sm_z = shooting_method_data[:,0]\n",
    "sm_rho =shooting_method_data[:,1]\n",
    "sm_DFT_rho =shooting_method_data[:,2]\n",
    "sm_MP2_rho =shooting_method_data[:,3]"
   ]
  },
  {
   "cell_type": "code",
   "execution_count": 3,
   "metadata": {},
   "outputs": [],
   "source": [
    "sm_rho = sm_rho/np.sum(sm_rho*(sm_z[1]-sm_z[0]))\n",
    "sm_DFT_rho = sm_DFT_rho/np.sum(sm_DFT_rho*(sm_z[1]-sm_z[0]))\n",
    "sm_MP2_rho = sm_MP2_rho/np.sum(sm_MP2_rho*(sm_z[1]-sm_z[0]))"
   ]
  },
  {
   "cell_type": "markdown",
   "metadata": {},
   "source": [
    "plotting"
   ]
  },
  {
   "cell_type": "code",
   "execution_count": 4,
   "metadata": {},
   "outputs": [
    {
     "data": {
      "image/png": "[encoded data removed]",
      "text/plain": [
       "<Figure size 245.081x151.469 with 1 Axes>"
      ]
     },
     "metadata": {
      "needs_background": "light"
     },
     "output_type": "display_data"
    }
   ],
   "source": [
    "from matplotlib.lines import Line2D\n",
    "\n",
    "light_purple = '#afa7d0'\n",
    "light_red = '#eba2a2'\n",
    "\n",
    "from scipy import interpolate\n",
    "    \n",
    "# ---------------------------------------------------------\n",
    "# ρ(z)    \n",
    "# ---------------------------------------------------------\n",
    "\n",
    "colors = [\"#d43e4e\", \"#abdda4\", \"#3288bc\"]\n",
    "\n",
    "half_max = 0.5*np.max(sm_rho)\n",
    "half_max_idx = np.where(np.abs(sm_rho-half_max)<0.02)[0]\n",
    "z_max = sm_z[np.argmax(sm_rho)]\n",
    "\n",
    "half_max_DFT = 0.5*np.max(sm_DFT_rho)\n",
    "half_max_idx_DFT = np.where(np.abs(sm_DFT_rho-half_max)<0.02)[0]\n",
    "z_max_DFT = sm_z[np.argmax(sm_DFT_rho)]\n",
    "\n",
    "half_max_MP2 = 0.5*np.max(sm_MP2_rho)\n",
    "half_max_idx_MP2 = np.where(np.abs(sm_MP2_rho-half_max)<0.02)[0]\n",
    "z_max_MP2 = sm_z[np.argmax(sm_MP2_rho)]\n",
    "\n",
    "plt.plot(sm_z, sm_rho, lw=1, label=\"empirical\", color = colors[0])\n",
    "plt.plot(sm_z, sm_DFT_rho, lw=1, label=\"DFT\", color = colors[2])\n",
    "plt.plot(sm_z, sm_MP2_rho, lw=1, label=\"MP2\", color = colors[1])\n",
    "\n",
    "#plt.plot([z_max,z_max],[0.00,np.max(sm_rho)], ls=':',color=light_red, lw=0.5)\n",
    "\n",
    "xmin,xmax=sm_z[half_max_idx[0]],sm_z[half_max_idx[1]]\n",
    "#plt.plot([zsm_z_max,xmax],[half_max,half_max], ls='--',color=colors[0], lw=0.5)\n",
    "#plt.text(z_max+0.018,half_max+0.0011,f'{(xmax-xmin)/2:.2f}', fontsize=8, \n",
    "#           ha='left',va='top', color=colors[0])\n",
    "\n",
    "# FWHM arrows\n",
    "#plt.annotate(\"\",\n",
    "#        xy=(xmax,half_max), xycoords='data',\n",
    "#        xytext=(xmax+0.25, half_max), textcoords='data',\n",
    "#        arrowprops=dict(arrowstyle=\"->\", ls=':',lw=0.5,\n",
    "#                        connectionstyle=\"arc3\",ec=light_red,zorder=-10),)\n",
    "#plt.annotate(\"\",\n",
    "#        xy=(xmin,half_max), xycoords='data',\n",
    "#        xytext=(xmin-0.25, half_max), textcoords='data',\n",
    "#        arrowprops=dict(arrowstyle=\"->\", ls=':',lw=0.5,\n",
    "#                        connectionstyle=\"arc3\",ec=light_red,zorder=-10),)\n",
    "#plt.annotate(f'{(xmax-xmin):.2f}',\n",
    "#        xy=(xmin-0.25, half_max), xycoords='data',\n",
    "#        xytext=(-15, -2.5), textcoords='offset points', color=light_red,zorder=-10)\n",
    "\n",
    "plt.xlim(2.1,6.1)\n",
    "plt.ylim(0,2.99)\n",
    "plt.xlabel(r'$\\alabel{z}{\\angstrom}$')\n",
    "plt.ylabel(r'$\\alabel{\\rho(z)}{\\angstrom^{-1}}$')\n",
    "#plt.text(0,0.99,'(a)', fontsize=7, ha='left',va='top',\n",
    "#          transform=ax[0].transAxes)\n",
    "#plt.text(z_max,-0.025,f'{z_max:.2f}', fontsize=8, ha='center',va='top', color=light_red)\n",
    "plt.locator_params(axis='x', nbins = 4)\n",
    "plt.legend(handlelength = 1, loc = \"lower right\")\n",
    "\n",
    "data = [[ 2.69, 0.026,  21.2],\n",
    "        [ 3, 0.022,  23.5],\n",
    "        [ 3,  0.02, 25.5]]\n",
    "\n",
    "#columns = (r'$\\rm Max z / \\AA$', r'$\\rm variance$', r'$\\Delta$E')\n",
    "#rows = (r'QMC', r\"DFT\", r\"MP2\")\n",
    "\n",
    "#plt.table(cellText=data,colWidths=[0.2,0.2,0.2], fontsize = 12,\n",
    "#          rowLabels=rows,colLabels=columns,loc='center right')\n",
    "\n",
    "#col_labels=[r'$\\rm max \\,$ $z / \\rm{\\AA}$', r'$\\Delta z_{rms} / \\rm{\\AA}$', r'$\\Delta$E / K']\n",
    "#row_labels=[r'QMC', r'DFT', r'MP2']\n",
    "#table_vals=[[2.69,0.161,21.2],[3.07,0.149,23.5],[2.93,0.142,25.5]]\n",
    "#the_table = plt.table(cellText=table_vals,colWidths = [0.22]*3,rowLabels=row_labels,colLabels=col_labels,loc='best')\n",
    "table = r\"\\begin{tabular}{ m{30pt} | m{20pt} | m{20pt} | m{16pt} } & $\\rm{max} \\: z$  $/ \\: \\rm{\\AA}$ & $\\Delta z_{\\rm{rms}}$ $/ \\: \\rm{\\AA}$ & $\\Delta$E $\\rm / \\: K$ \\\\\\hline empirical & 2.69 & 0.161 & 21.2 \\\\\\hline DFT & 3.07 & 0.149 & 23.5 \\\\\\hline  MP2 & 2.93 & 0.142 & 25.5 \\end{tabular}\"\n",
    "plt.text(3.25,1.7,table,size=7)\n",
    "\n",
    "\n",
    "plt.savefig('../plots/shooting_method_rho.pdf', dpi=300, transparent=False, bbox_inches ='tight') \n",
    "plt.savefig('../plots/shooting_method_rho.svg', bbox_inches ='tight') \n"
   ]
  },
  {
   "cell_type": "code",
   "execution_count": null,
   "metadata": {},
   "outputs": [],
   "source": []
  }
 ],
 "metadata": {
  "kernelspec": {
   "display_name": "Python 3",
   "language": "python",
   "name": "python3"
  },
  "language_info": {
   "codemirror_mode": {
    "name": "ipython",
    "version": 3
   },
   "file_extension": ".py",
   "mimetype": "text/x-python",
   "name": "python",
   "nbconvert_exporter": "python",
   "pygments_lexer": "ipython3",
   "version": "3.7.7"
  }
 },
 "nbformat": 4,
 "nbformat_minor": 4
}
