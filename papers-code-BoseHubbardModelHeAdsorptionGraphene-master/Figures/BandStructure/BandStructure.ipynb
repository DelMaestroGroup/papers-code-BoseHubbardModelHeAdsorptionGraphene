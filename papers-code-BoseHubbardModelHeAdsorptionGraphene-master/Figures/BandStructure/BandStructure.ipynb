{
 "cells": [
  {
   "cell_type": "code",
   "execution_count": 1,
   "metadata": {},
   "outputs": [],
   "source": [
    "import numpy as np\n",
    "import matplotlib.pyplot as plt\n",
    "import pickle\n",
    "#%matplotlib inline"
   ]
  },
  {
   "cell_type": "markdown",
   "metadata": {},
   "source": [
    "load data"
   ]
  },
  {
   "cell_type": "code",
   "execution_count": 21,
   "metadata": {},
   "outputs": [],
   "source": [
    "GMKG = np.loadtxt('../../Data/BandStructure.txt', delimiter = ',')\n",
    "\n",
    "GMKG_Length = GMKG[:, 0]\n",
    "GMKG_Bands = GMKG[:, 1:]"
   ]
  },
  {
   "cell_type": "markdown",
   "metadata": {},
   "source": [
    "plotting"
   ]
  },
  {
   "cell_type": "code",
   "execution_count": null,
   "metadata": {},
   "outputs": [],
   "source": [
    "plt.style.use('../aps1.mplstyle')"
   ]
  },
  {
   "cell_type": "code",
   "execution_count": 54,
   "metadata": {},
   "outputs": [
    {
     "data": {
      "image/png": "[encoded data removed]",
      "text/plain": [
       "<Figure size 245.081x151.469 with 1 Axes>"
      ]
     },
     "metadata": {
      "needs_background": "light"
     },
     "output_type": "display_data"
    }
   ],
   "source": [
    "plt.axvline(GMKG_Length[24], color = 'grey', linewidth = 0.8)\n",
    "plt.axvline(GMKG_Length[32], color = 'grey', linewidth = 0.8)\n",
    "\n",
    "plt.plot(GMKG_Length, GMKG_Bands, c = 'black', lw = 1)\n",
    "\n",
    "plt.xlim(GMKG_Length[0], GMKG_Length[-1])\n",
    "\n",
    "plt.xticks([GMKG_Length[0], GMKG_Length[24], GMKG_Length[32], GMKG_Length[40]], \n",
    "           [r'$\\Gamma$', r'$M$', r'$K$' , r'$\\Gamma$'])\n",
    "plt.tick_params(top=False)\n",
    "\n",
    "plt.ylabel(\"Energy (K)\")\n",
    "\n",
    "plt.savefig('BandStructure.pdf', transparent=False) \n",
    "plt.savefig('BandStructure.svg', transparent=False) \n",
    "\n",
    "plt.show()\n"
   ]
  },
  {
   "cell_type": "code",
   "execution_count": null,
   "metadata": {},
   "outputs": [],
   "source": []
  }
 ],
 "metadata": {
  "kernelspec": {
   "display_name": "Python 3",
   "language": "python",
   "name": "python3"
  },
  "language_info": {
   "codemirror_mode": {
    "name": "ipython",
    "version": 3
   },
   "file_extension": ".py",
   "mimetype": "text/x-python",
   "name": "python",
   "nbconvert_exporter": "python",
   "pygments_lexer": "ipython3",
   "version": "3.7.3"
  }
 },
 "nbformat": 4,
 "nbformat_minor": 2
}
